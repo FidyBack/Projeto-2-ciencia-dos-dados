{
 "cells": [
  {
   "cell_type": "markdown",
   "metadata": {},
   "source": [
    "# Classificador naive bayes para a marca Supreme"
   ]
  },
  {
   "cell_type": "markdown",
   "metadata": {},
   "source": [
    "Este projeto consiste na criação de uma mini inteligência artificial que classifica Tweets de acordo com opiniões relacionadas à uma determinada marca, no caso, a Supreme. Este classificador separará as opiniões dadas à marca, em cinco blocos diferentes quanto à positividade: Muito negativo, negativo, neutro, positivo e muito positivo. Isso pode ser aplicado à realidade mercadológica, uma vez que, para a empresa cuja marca representa é fundamental saber a opinião pública para a melhoria de seus serviços e produtos."
   ]
  },
  {
   "cell_type": "code",
   "execution_count": 9,
   "metadata": {},
   "outputs": [],
   "source": [
    "import pandas as pd"
   ]
  },
  {
   "cell_type": "markdown",
   "metadata": {},
   "source": [
    "Primeiro, importamos os dados do excel de treinamento"
   ]
  },
  {
   "cell_type": "code",
   "execution_count": 10,
   "metadata": {},
   "outputs": [
    {
     "data": {
      "text/html": [
       "<div>\n",
       "<style scoped>\n",
       "    .dataframe tbody tr th:only-of-type {\n",
       "        vertical-align: middle;\n",
       "    }\n",
       "\n",
       "    .dataframe tbody tr th {\n",
       "        vertical-align: top;\n",
       "    }\n",
       "\n",
       "    .dataframe thead th {\n",
       "        text-align: right;\n",
       "    }\n",
       "</style>\n",
       "<table border=\"1\" class=\"dataframe\">\n",
       "  <thead>\n",
       "    <tr style=\"text-align: right;\">\n",
       "      <th></th>\n",
       "      <th>Treinamento</th>\n",
       "      <th>Relação Marca</th>\n",
       "      <th>Positividade</th>\n",
       "    </tr>\n",
       "  </thead>\n",
       "  <tbody>\n",
       "    <tr>\n",
       "      <th>0</th>\n",
       "      <td>rt @lugabriel_: eae vei quem achou uma carteir...</td>\n",
       "      <td>0</td>\n",
       "      <td>NaN</td>\n",
       "    </tr>\n",
       "    <tr>\n",
       "      <th>1</th>\n",
       "      <td>rt @renata1255_: essa semana só foi bolsonaro,...</td>\n",
       "      <td>1</td>\n",
       "      <td>1.0</td>\n",
       "    </tr>\n",
       "    <tr>\n",
       "      <th>2</th>\n",
       "      <td>rt @michaugusto: supreme fuck the president, g...</td>\n",
       "      <td>0</td>\n",
       "      <td>NaN</td>\n",
       "    </tr>\n",
       "    <tr>\n",
       "      <th>3</th>\n",
       "      <td>rt @vishmidia: coleman lança oficialmente para...</td>\n",
       "      <td>1</td>\n",
       "      <td>3.0</td>\n",
       "    </tr>\n",
       "    <tr>\n",
       "      <th>4</th>\n",
       "      <td>@berreccaa ebay for girls , supreme , dafiti t...</td>\n",
       "      <td>1</td>\n",
       "      <td>3.0</td>\n",
       "    </tr>\n",
       "  </tbody>\n",
       "</table>\n",
       "</div>"
      ],
      "text/plain": [
       "                                         Treinamento  Relação Marca  \\\n",
       "0  rt @lugabriel_: eae vei quem achou uma carteir...              0   \n",
       "1  rt @renata1255_: essa semana só foi bolsonaro,...              1   \n",
       "2  rt @michaugusto: supreme fuck the president, g...              0   \n",
       "3  rt @vishmidia: coleman lança oficialmente para...              1   \n",
       "4  @berreccaa ebay for girls , supreme , dafiti t...              1   \n",
       "\n",
       "   Positividade  \n",
       "0           NaN  \n",
       "1           1.0  \n",
       "2           NaN  \n",
       "3           3.0  \n",
       "4           3.0  "
      ]
     },
     "execution_count": 10,
     "metadata": {},
     "output_type": "execute_result"
    }
   ],
   "source": [
    "dados = pd.read_excel('tweets_supreme_treinamento.xlsx')\n",
    "\n",
    "dados.head()"
   ]
  },
  {
   "cell_type": "markdown",
   "metadata": {},
   "source": [
    "Após isso, removemos os tweets que não possuem relação com a marca"
   ]
  },
  {
   "cell_type": "code",
   "execution_count": 11,
   "metadata": {},
   "outputs": [
    {
     "data": {
      "text/html": [
       "<div>\n",
       "<style scoped>\n",
       "    .dataframe tbody tr th:only-of-type {\n",
       "        vertical-align: middle;\n",
       "    }\n",
       "\n",
       "    .dataframe tbody tr th {\n",
       "        vertical-align: top;\n",
       "    }\n",
       "\n",
       "    .dataframe thead th {\n",
       "        text-align: right;\n",
       "    }\n",
       "</style>\n",
       "<table border=\"1\" class=\"dataframe\">\n",
       "  <thead>\n",
       "    <tr style=\"text-align: right;\">\n",
       "      <th></th>\n",
       "      <th>Treinamento</th>\n",
       "      <th>Relação Marca</th>\n",
       "      <th>Positividade</th>\n",
       "    </tr>\n",
       "  </thead>\n",
       "  <tbody>\n",
       "    <tr>\n",
       "      <th>1</th>\n",
       "      <td>rt @renata1255_: essa semana só foi bolsonaro,...</td>\n",
       "      <td>1</td>\n",
       "      <td>1.0</td>\n",
       "    </tr>\n",
       "    <tr>\n",
       "      <th>3</th>\n",
       "      <td>rt @vishmidia: coleman lança oficialmente para...</td>\n",
       "      <td>1</td>\n",
       "      <td>3.0</td>\n",
       "    </tr>\n",
       "    <tr>\n",
       "      <th>4</th>\n",
       "      <td>@berreccaa ebay for girls , supreme , dafiti t...</td>\n",
       "      <td>1</td>\n",
       "      <td>3.0</td>\n",
       "    </tr>\n",
       "    <tr>\n",
       "      <th>6</th>\n",
       "      <td>eu só queria mata a chute quem usa roupa da su...</td>\n",
       "      <td>1</td>\n",
       "      <td>0.0</td>\n",
       "    </tr>\n",
       "    <tr>\n",
       "      <th>9</th>\n",
       "      <td>seis acha que nós é crime não me julgue, quero...</td>\n",
       "      <td>1</td>\n",
       "      <td>3.0</td>\n",
       "    </tr>\n",
       "  </tbody>\n",
       "</table>\n",
       "</div>"
      ],
      "text/plain": [
       "                                         Treinamento  Relação Marca  \\\n",
       "1  rt @renata1255_: essa semana só foi bolsonaro,...              1   \n",
       "3  rt @vishmidia: coleman lança oficialmente para...              1   \n",
       "4  @berreccaa ebay for girls , supreme , dafiti t...              1   \n",
       "6  eu só queria mata a chute quem usa roupa da su...              1   \n",
       "9  seis acha que nós é crime não me julgue, quero...              1   \n",
       "\n",
       "   Positividade  \n",
       "1           1.0  \n",
       "3           3.0  \n",
       "4           3.0  \n",
       "6           0.0  \n",
       "9           3.0  "
      ]
     },
     "execution_count": 11,
     "metadata": {},
     "output_type": "execute_result"
    }
   ],
   "source": [
    "dad_na=dados.dropna()\n",
    "\n",
    "dad_na.head()"
   ]
  },
  {
   "cell_type": "markdown",
   "metadata": {},
   "source": [
    "Depois disso, criamos uma função que transforma o dataframe em um dicionário"
   ]
  },
  {
   "cell_type": "code",
   "execution_count": 12,
   "metadata": {},
   "outputs": [
    {
     "name": "stdout",
     "output_type": "stream",
     "text": [
      "{0: ['eu só queria mata a chute quem usa roupa da supreme', 'rt @matinauov_69: @fckingwilson já vi tijolos da supreme 😂😂😂😂😂\\n\\nl minúsculo se não tiverem xailes', 'o supreme insiste em querer conversa, ba o cara e mt chato kkkk', '@singelasso se a supreme faz peita do scarface\\nacho que é kkkk', 'só tenho 5$ pra entrar na supreme será q eles deixa', 'meu tt só da supreme, não aguento mais', 'as loja da bape e supreme são as loja mais hypada vlho na moral, vir um vídeo na gringa e as filas são grande pra crlh', 'já fizeram uma camisa fake da supreme escrito \"supera\"?\\n\\né bom pra dar pra amiga, pros amigo, pra irmã, pro irmão, sempre se conhece alguém que pode usar esse conselho em forma de estampa', 'cachorro da supreme', '@victoralmeida_s moletom 30k, barba da supreme 2k, cabelo do justin bieber 15k, calça 1k, iphone x 10k', '@aryyeleyb ele q fica abrindo a boca pra dizer q ama a burberry e supreme kkk. pelo menos deram uma camisa da burlon e uma da d&amp;g q acho linda', 'rt @portugalkg7: lucas paz ta com a pochete da minha avó, se ele colar alguma etiqueta da supreme na porra da correia eu vou ficar muito pu…', 'galera do rap nacional em 2017 com quem curte mais som de fora: seus chupa pau de gringo, mela saco de gringo, rap de mensagem, não da valor pros muleke.\\n\\nos mesmos caras em 2018: autotune, soundcloud, ey, yo, bolsinha da supreme, camisa palace e strapback kkkk', 'povo chato com porra de supreme, não aguento mais esse nome', 'nāo aguento mais ver gente com roupas da gucci e da supreme mds\\nparece uniforme de escola todo mundo tem kkk🤦🏾\\u200d♂️😂', 'hoje é  dia de tacar fogo em burguês com camisa da supreme', '@breenocpv @fodeu vo compra o tijolo da supreme soh pra taca na sua cabeça dps dessa', 'rt @_pedrooferreira: povo chato com porra de supreme, não aguento mais esse nome', 'rt @_pedrooferreira: povo chato com porra de supreme, não aguento mais esse nome', 'pediu pra vó tricotar esse logo supreme aí', 'enquanto eu estava criando meu usuário no hotmail vcs estavam nascendo ainda seus jovens supreme!', 'rt @asnodeburidan: @lu_rodrigo até porque a resposta certa é vermin supreme', 'urgente\\nbart fica puto com a supreme e vira bart off white https://t.co/whxb7bdvpv', 'rt @trapmentales: lil peep manda mensagem do céu após o lançamento de sua música com o também falecido rapper xxxtentacion: \"bart supreme\"…', 'bart supreme agora é grife', 'rt @gianiucca: ninguem que nao seja modelo rapper ou sei la famoso fica com bom aquelas porra de roupa ridicula supreme balenciga bape só p…', 'bart supreme vai fazer o trap ser coisa de mlk underground retardado de novo', 'rt @trapmentales: atenção\\nbart supreme morre após tentar chupar bart supreme https://t.co/v3mxbzkcvo', 'tema: vô dela de gucci\\nmenorzin d supreme: sidokinha', 'o brasileiro acabando com a supreme, vcs são uns lixo', 'ninguem que nao seja modelo rapper ou sei la famoso fica com bom aquelas porra de roupa ridicula supreme balenciga bape só parece adolescente ridiculo msm', 'rt @trapmentales: atenção\\nbart supreme morre após tentar chupar bart supreme https://t.co/v3mxbzkcvo', 'rt @gianiucca: ninguem que nao seja modelo rapper ou sei la famoso fica com bom aquelas porra de roupa ridicula supreme balenciga bape só p…', 'canivete da supreme kkkkkkkkkkkkk  voces são bem doentes mesmo namoral', 'me veja duas por favor😂😂😂\\ntmnc supreme😂😂 https://t.co/thqsvjqw5j', 'atenção\\nbart supreme morre após tentar chupar bart supreme https://t.co/v3mxbzkcvo', 'sai daqui, vc usa camisa da supreme', 'rt @falatumarku: sai daqui, vc usa camisa da supreme'], 1: ['rt @renata1255_: essa semana só foi bolsonaro, gincana do adventista e supreme https://t.co/2bprvh6ztg', 'mas essa desgraça de jogo num abaixa de preço nunca né? vcs acham que ostentação é selinho da supreme, ostentação de verdade é selinho da ea, bando de mercenarios arrombados', 'essa coleção nova da supreme tá sacanagem', 'água no boêmia: 2,50\\nágua na supreme: 4 reais https://t.co/eohcmgvnek', 'rt @renata1255_: essa semana só foi bolsonaro, gincana do adventista e supreme https://t.co/2bprvh6ztg', 'rt @jacirajanelinha: mas essa desgraça de jogo num abaixa de preço nunca né? vcs acham que ostentação é selinho da supreme, ostentação de v…', 'n da p levar beats p altar, ela é supreme e eu smp preferi all star', 'ela é supreme e eu sempre preferi all star', 'ela é tipo supreme eu sou tipo converse', '@luide @rebobinando acho que o da supreme ficaria mais chamativa se questionasse o porquê do preço em vez de quanto custa', 'essa semana só foi bolsonaro, gincana do adventista e supreme https://t.co/2bprvh6ztg', '@donab8na @brasil_fortnite você tem dinheiro pra jaqueta de reverse da supreme e não pra uns vbukinhos?', 'o mano qual a dessas pose dessa gente alternativona supreme?\\n\\né tipo\\nsusto\\ndança do maxixe\\npolias móveis\\npera que vo arruma o cabelo\\nque mais eh\\ndança do robô\\ncabelo foi no olho\\ncaiu agua na camisa\\nalguém parou do nada na tua frente no meio da rua\\ncortaram tua frente no trânsito https://t.co/kcdlahoy8j', 'gucci e supreme não é nada\\neu quero os menor acreditando que pode chegar\\nmesmo com a mãe ligando desesperada\\nporque a bala não para de cantar ♫', 'a supreme faz as colaborações mais parvas do game!! fico parva man!! 🔥🔥🔥🔥🔥🔥🔥🔥🔥🔥🔥🔥🔥🔥', 'do que adianta usar high, supreme e morar lá onde judas perdeu as botas? kkkkkkkk mas vai indo', 'rt @renata1255_: essa semana só foi bolsonaro, gincana do adventista e supreme https://t.co/2bprvh6ztg', 'me da raiva dessas lojas vendendo réplicas escrotas da supreme \\U0001f92c🤢\\U0001f92e😷', 'rt @badgxrlmari: oq adianta supreme e bape se tu nao eh will smith???? fe', 'parecia camisa da supreme no arraial do meta kkkkkkkkkkkk', 'os cara é tipo supreme \\neu sou tipo converse', 'rt @badgxrlmari: oq adianta supreme e bape se tu nao eh will smith???? fe', 'rt @badgxrlmari: oq adianta supreme e bape se tu nao eh will smith???? fe', 'rt @danilopaulo15: eu lembro de uns bagui da supreme e fico rindo sozinho pô kkkkkkkkkkkkkk', 'ela é supreme, eu sempre preferi all star', 'eu lembro de uns bagui da supreme e fico rindo sozinho pô kkkkkkkkkkkkkk', 'rt @renata1255_: essa semana só foi bolsonaro, gincana do adventista e supreme https://t.co/2bprvh6ztg', 'esse povo com essas brusinha supreme que gritam falsiê, jurando que tao abalando\\n\\npreguiça', 'rt @eshugomes: sinto falta da época em que supreme e gucci eram grifes que poucos conheciam.', 'dá bué graças gajos com t-shirts falsas da supreme a armarem-se bué...', 'rt @badgxrlmari: oq adianta supreme e bape se tu nao eh will smith???? fe', 'sinto falta da época em que supreme e gucci eram grifes que poucos conheciam.', 'comprei um treco muito avulso aleatorio na supreme akaaka espero q venda essa porra, pq tem nem onde guardar kakkakakaka', 'rt @daylimns: ela é tipo supreme eu sou tipo converse alalalalalalalala', 'rt @daylimns: ela é tipo supreme eu sou tipo converse alalalalalalalala', 'tem um cara aqui no aeroporto com camisa da supreme. vontade de perguntar quantos dól foi.', 'rt @daylimns: ela é tipo supreme eu sou tipo converse alalalalalalalala', 'a nossa coleção supreme trouxe 3 novas cores de batons líquidos matte, que tem alta durabilidade e fixação: meghan, rose e bella. 💄 neutros e com toque de cintilância. ✨ qual o seu favorito? https://t.co/yzethuumf6', 'rt @daylimns: ela é tipo supreme eu sou tipo converse alalalalalalalala', 'qual editor vc usou nessa ultima foto? q tem supreme escrito — coloquei o supreme escrito pela história do insta https://t.co/kvxivvltwi', '@rico_fm camiseta ranço da supreme', 'rt @falatumarku: sai daqui, vc usa camisa da supreme', '@semjobim é essa a discussão kkkkj eu acho horrível pior q camisa da supreme', '@bachouralmeida mendigo com camisa da supreme', 'sabias que\\no mito bart supreme\\nnão dispensa de fumar uns bons canhões?\\n\\nsim erva marijuana droga\\n\\npara enfrentar o real trap, o bart, que também pode ser chamado de sumeme, chupa fumo de uns bons tarolos para lidar com a pressão do brasileiro\\nestamos a falar de 75 ch https://t.co/48z4bxwlk0', 'galera falando que o cabo tá quebrado mas só vejo a galera usando camisa da gucci e supreme 🤔', 'rt @falatumarku: sai daqui, vc usa camisa da supreme', 'rt @lgustavopuga: só queria ficar 6 horas em uma fila pra comprar uma peça da supreme por 500 dol', '@rafaelnewk camisa da supreme é um caso a parte. a parte do capeta taca fogo e sai rodando pq coragem......', 'meu irmao td feliz que ganho uma peita da supreme kkkkkk tadinho', 'tão passando vergonha com essas camisa a cara da falsidade da supreme &amp; gucci  😅😒', 'de uns tempos pra cá vejo um tanto de gente com um \"supreme\" estampado em blusa\\n\\nparece até propaganda pra marca de chocolate', 'gostei de um vídeo @youtube https://t.co/p9u4chlfql é supreme patty?│está obscecado com a supreme e tatuou a marca na boca -', 'bart supreme type rappers:\\nfala de glock de lim e de roupa\\n\\nmano vc usava camiseta de anime e allstar até mês passado ok', 'nada pior que a “supere” no lugar de “supreme” https://t.co/93vcigex5a', 'rt @trapmentales: sabias que\\no mito bart supreme\\nnão dispensa de fumar uns bons canhões?\\n\\nsim erva marijuana droga\\n\\npara enfrentar o real t…', 'tem um carro aqui em lajeado que é cheio do adesivo da supreme lojaisjaidjsidjsisjdis cada um que aparece', 'sou estiloso até de camiseta branca \\nnah não é supreme eu uso sem estampa', '@fernwndinha supreme lv ta 89,90 mas pra vc é tlinta leais', 'rt @trapmentales: quem nasceu pra ser adolescente andando no shopping com camisa da 1kilo nunca vai ser  bart supreme', 'bart supreme odeia brancos', 'nossa supreme influencer fica caladinha, né? é a besta', '@calabocagio ainda bem então pq ele tava pedindo camiseta estili supreme e ranço. até estranhei', '@isaquesathler @countonvic kkkkkkkkkkkkk a cara dela, aposto que tem uma imitação igual tem da blusa supreme', '@freeblowjob supreme é apelido do cara?\\n\\nse for eu já entendi pq', 'quando uma supreme começa a morrer é porque outra está subindo ao auge https://t.co/pxovqinht6', 'devo ser a única que não gosta da supreme', '@helenaa_santoos esquecemos da “supere” imitando a supreme', 'bart supreme vai tirar o bob shmurda da cadeia', 'o cara vem com uma camisa da supreme reclamar do preco da banana', 'gastar todo meu dinheiro pra comprar um contador de nota da supreme', 'a prova de que uma camiseta da supreme não vale tudo isso é que uma cópia idêntica é vendida na rua a 20 reais.', 'daqui a pouco vai existir piso da supreme com a louis vuitton, gucci, channel, dolce gabbana, adidas, nike, undearmor, asics https://t.co/ic2jer8pij', 'thrasher abriu uma loja to so visualizando as bloguera entrando na loja achando q eh supreme kkkkkkkkkkkkkk'], 2: ['o que me chocou mais do que a vogue vender boomerang\\n\\nfoi descobrir que a supreme vende tijolo', 'nesse boné da gucci paguei mil reais\\ncueca da supreme duzentos reais\\nmas sabe uma coisa que não tem preço\\né parar de ser bancado pelo pai \\n\\nessa cara gasto nessa letra', 'rt @usdefsoul: supreme por favor patrocina o menino youngjae eh o sonho dele', 'por dentro da coleção: hiury junges\\ntenho um vans\\num moletom da supreme velho\\numa camisa da assc\\nfim do vídeo', 'rt @biebizzle: journals físico a pronta entrega, dvd com 69 vídeos do justin também e mais peças, a carteira da supreme também está disponí…', 'rt @coelhomarle: ainda nao sei como a supreme  nao chamou o youngjae pra ser garoto propaganda deles @got7official #got7', 'e eu que recebo e-mail da supreme kkkk', 'guidão 4 peças | supreme united - https://t.co/whdxv8pv3x https://t.co/z5rsifd2ag', '@thedvart eu não percebo muito de supreme então estava à toa 🤣', 'rt @usdefsoul: supreme por favor patrocina o menino youngjae eh o sonho dele', 'e o nome dele é supreme', 'rt @vishmidia: coleman lança oficialmente para venda a minimoto em colab com a supreme, confira https://t.co/ubszcked7g https://t.co/ci5x0c…', 'supreme por favor patrocina o menino youngjae eh o sonho dele', 'descreditado até agora q eu comprei o tijolo da supreme kkkkkkkkkkkkkkkkkk', 't-shirt supreme ☠️\\n50$ + frete\\nenviamos para todo o brasil ✈️\\nmais informações na dm \\n\\n6 camisas por 180$😱😱\\n\\nobs: vale a pena lembrar que estamos em promoção até o dia 15/09 https://t.co/9rwzzgvlvt', '@pdrolivieri eu jurava que era da supreme', 'e dos supreme power também, mas só se for +16 com o selo max', 'dois gelo no meu bart supreme', 'bora pro cinema? uhuuuuuuuuu\\ncompre 2 produtos ou mais na loja e ganhe ingressos para assistir sansão 💪\\ncamisetas: supreme love branca e onde está o seu coração?\\nhttps://t.co/gcsszjeivy', 'nova campanha homer supreme https://t.co/qxod1m83t6', 'é só sair na rua pra ver uma pessoa a cada 3 minutos usando camiseta escrito supreme com estampas variadas', 'amigos supreme é mas de 1000$ blz kkkkkkkk', '@godxplan não eh.\\nmas eu só chamo ele assim pq quem usa roupa da supreme pprra', 'rt @yungshotaro: bart supreme = qi 1 trilhao', 'bart supreme vai a praia https://t.co/f9f9chbnx5', '@yaakushi essa galera que endeusa madoka  2k18 ultra supreme lul', 'fala ai seus peita da supreme por 50 mangos', 'só queria ficar 6 horas em uma fila pra comprar uma peça da supreme por 500 dol', 'gostei de um vídeo @youtube https://t.co/kxaewvdgf0 da supreme, entrei? a realidade das lojas hype em new york!', 'rt @yungshotaro: bart supreme = qi 1 trilhao', 'lil peep manda mensagem do céu após o lançamento de sua música com o também falecido rapper xxxtentacion: \"bart supreme\" https://t.co/tem67woj3b', '@bresolinyrn @hudi_melo bem mais meu kit da supreme scooby doo https://t.co/mpwyabrq1k', 'rt @yungshotaro: bart supreme = qi 1 trilhao', 'não tenha preso em rabo supreme', '@_flameboimatt o bagulho é fazer flow bart supreme', '@rakinlol com 3k vc compra um anel da supreme e fica felizão poh', '@againbruno tem da supreme também', 'fds 2 modelos da mesma coleção da supreme eu fiquei com a mais feia ,tipo o meu símbolo da supreme não é bordado :(', 'rt @trapmentales: - mamãe, pq o nome do meu irmãozinho é bart supreme\\n- pq quando seu pai era menor gostava muito de bart supreme\\n- então p…', '@dropssupreme @iuridgaf potezao sabes q esses sao todos fake o unico oficial da supreme é o red box logo kkk', 'bart supreme segui você', 'bart supreme é coisa do passado, agora a moda é bart bape https://t.co/1cngc1ddyw', 'dólar: r$ 4,12\\niphone x: r$ 5000,00\\ncuequinha supreme: r$ 90,00\\ntrufas m32: r$ 2,00 \\n\\nvocê que sabe', 'sabias que\\no mito bart supreme\\nnão dispensa de tomar um bom lean??\\n\\nsim purple drank sprite droga\\n\\npara enfrentar o real trap, o bart, que também pode ser chamado de sumeme, chupa gole de umas boas codeinas para lidar com a pressão da cena\\nestamos a falar de 75 ch https://t.co/wuh3bkbniw', 'querem patrocinio da supreme eu da skol', 'rt @trapmentales: lil peep manda mensagem do céu após o lançamento de sua música com o também falecido rapper xxxtentacion: \"bart supreme\"…', '@_marianac manda bordar um supreme ai e ja era', 'bart supreme vai aumentar o preço do cachê do raffa moreira e diminuir o do matuê', 'dá prá compra uma camisa da supreme', 'sem ranço e sem supreme, acho que estou sozinha neste mundo. https://t.co/bi1s5pyzyu', 'chegou o e-mail de confirmação do try out do supreme e até hj não decidi se devo', 'onde vc compra supreme ? — ?? https://t.co/4fg4fsaixy', '@nunessx2 @novetti2 1 e meio da supreme já', 'gostei de um vídeo do @youtube https://t.co/2dkbarvxcv visiting the fake supreme store in barcelona', 'a logo da colgate parece a logo da supreme', 'rt @trapmentales: urgente\\nbart fica puto com a supreme e vira bart off white https://t.co/whxb7bdvpv', 'rt @wangcheeseking: queira ser amiga rica do youngjae pra chegar na casa dele com um bolo da supreme e docinhos da supreme e uns presente d…', 'ofereçam-me lá um zippo da supreme', 'foda se não acredito hoje finalmente fui aí site da supreme para comprar a merda da mala finalmente quando vi que tava esgotado tipo destruíram me completamente', 'o cara com 300 de ping dando mais bala que eagle e supreme... bem normal', 'complicado... em villas supreme hotel https://t.co/uvxpgxzrvz', 'lowest ask: $550 jordan 5 retro supreme desert camo sz. 7.5 https://t.co/adsqr6ttmd #airjordan https://t.co/wf82gqpxo9'], 3: ['rt @vishmidia: coleman lança oficialmente para venda a minimoto em colab com a supreme, confira https://t.co/ubszcked7g https://t.co/ci5x0c…', '@berreccaa ebay for girls , supreme , dafiti tbm tem de tudo', 'seis acha que nós é crime não me julgue, quero as supreme e as dama chique !', 'rt @vishmidia: coleman lança oficialmente para venda a minimoto em colab com a supreme, confira https://t.co/ubszcked7g https://t.co/ci5x0c…', 'rt @vishmidia: coleman lança oficialmente para venda a minimoto em colab com a supreme, confira https://t.co/ubszcked7g https://t.co/ci5x0c…', 'há coisas que não mudam #livelifehard #supreme #goodvibesonly #africafraturing #life em maculusso https://t.co/wnv1kn3rdf', '@dougraz só se for da supreme pq vou custar 30k', 'combo no boêmia:100(o mínimo)\\ncombo na supreme: 40 https://t.co/rmo0otop1a', '@luizapibernat vem com a logo da supreme', 'rt @vishmidia: coleman lança oficialmente para venda a minimoto em colab com a supreme, confira https://t.co/ubszcked7g https://t.co/ci5x0c…', 'rt @vishmidia: coleman lança oficialmente para venda a minimoto em colab com a supreme, confira https://t.co/ubszcked7g https://t.co/ci5x0c…', 'colab supreme x comme des garçons ta muitooo pesada', 'supreme e comme des garçons shirt apresentam nova colaboração e confirmam mais um air force 1 - https://t.co/by5c7yb09b', 'supreme x cdg\\nminha mãe podia me presentear', 'joao tem inveja de mim pq eu tenho uma blusa da supreme e ele n rs', 'acabei de ganhar uma peita da supreme do meu futuro namorado to tão feliz meus amigos', 'depois de levi’s e supreme, a marca agora é fila', 'edilson deu tanto soco que deixou o gurizinho com cara de que fuma gudang e usa boné da supreme atormentado. dourado deveria ter mandado o maicon segurar as taças que ele já ganhou... opa, nenhuma. https://t.co/2wmbb8aoeo', 'acabei de ver mais um com as da supreme https://t.co/eg59iudogg', 'gostei de um vídeo @youtube https://t.co/77bjcro9tj da supreme, entrei? a realidade das lojas hype em new york!', 'kaos supreme distro say \\n\\n50k', 'me compra 1 camisa da supreme — compro, mas tem q ir cmg https://t.co/vetbnmtfvf', 'coleção supreme x comme des garçons shirt confirmada para quinta-feira: https://t.co/6rk6bjou68 https://t.co/sjuuznu7ni', 'gostei de um vídeo @youtube https://t.co/emgpsi7t3p da supreme, entrei? a realidade das lojas hype em new york!', 'mano supreme e bape eh mtt boa', '@exosneocity na época, isso era a própria supreme com a balenciaga junto com moschino', 'depois disso foi as kenner veio os nike e as supreme e umas novinha que ainda geme', 'nova coleção da supreme 🖤🖤🕊', '@fckingwilson já vi tijolos da supreme 😂😂😂😂😂\\n\\nl minúsculo se não tiverem xailes', 'casaco da supre 6k @thesupremesaint manda uns pano pra nois carai.\\n#sabadodetremurasdv #supreme https://t.co/ofoiyfjnlm', 'querem patrocínio da supreme da skol', 'achei uma pochete da supreme pika', 'ai gente meu namorado vai pra escola todo lindo e cheiroso de champion e supreme 😍😍 so falta ser meu namorado de verdade', 'comprei um rebook classic, collor og, bag supreme em dólar no último drop e uma peita da champion, e ainda nem sou rico.', 'meu gesso tem uns três lugares escrito \"supreme\"', 'supreme ft louis vuitton também está bombando https://t.co/4rjshcad6j', 'fazia tempo que não saía um drop da supreme que realmente dá vontade de comprar, igual esse feat novo com a cdg &lt;3', 'comprei uma capinha p meu cel da supreme 👌🏾', '@penikmatmilo adidas/supreme kak hihi', 'foda men n pode mais nem usar supreme como q vou ser real trapper https://t.co/qkqweoq8do', 'rt @giuliamacedor: ela é tipo supreme eu sou tipo converse', 'rt @daylimns: ela é tipo supreme eu sou tipo converse alalalalalalalala', 'eu tenho bart supreme no celular\\nbart supreme\\nsupreme\\nsupreme\\nsupreme', 'rt @daylimns: ela é tipo supreme eu sou tipo converse alalalalalalalala', 'caralho essa camisa da supreme tem um tecido que parece que c tá de moletom bixo', 'rt @daylimns: ela é tipo supreme eu sou tipo converse alalalalalalalala', 'rt @daylimns: ela é tipo supreme eu sou tipo converse alalalalalalalala', 'rt @daylimns: ela é tipo supreme eu sou tipo converse alalalalalalalala', 'rt @daylimns: ela é tipo supreme eu sou tipo converse alalalalalalalala', 'rt @daylimns: ela é tipo supreme eu sou tipo converse alalalalalalalala', 'rt @daylimns: ela é tipo supreme eu sou tipo converse alalalalalalalala', 'rt @xandeliborio: indo pra facul, vi uma mulher com uma camiseta estilo supreme só que tava escrito \"vou ver e te aviso\"', 'os cara é tipo supreme, eu sou tipo converse', 'rt @daylimns: ela é tipo supreme eu sou tipo converse alalalalalalalala', 'rt @daylimns: ela é tipo supreme eu sou tipo converse alalalalalalalala', 'rt @wangcheeseking: queira ser amiga rica do youngjae pra chegar na casa dele com um bolo da supreme e docinhos da supreme e uns presente d…', 'neymar, neymar, neymar supreme e gucci tipo neymar', 'ela não me convence pq é tipo supreme e eu sou meio converse', 'rt @daylimns: ela é tipo supreme eu sou tipo converse alalalalalalalala', 'ela é supreme e eu sempre preferi all star', 'chegou hoje lindas estampas na base supreme com mega preço.\\n83%poliamida e 17%elastano.', 'rt @daylimns: ela é tipo supreme eu sou tipo converse alalalalalalalala', 'queria ter comprado essa tshirt da supreme qnd saiu but sold out too fast :( https://t.co/2ve2wmtctx', 'rt @daylimns: ela é tipo supreme eu sou tipo converse alalalalalalalala', '@bibisouzzz compra uma camiseta da supreme', 'quando eu ficar milionário vou fazer uma casa com tijolos da supreme', 'rt @daylimns: ela é tipo supreme eu sou tipo converse alalalalalalalala', 'rt @daylimns: ela é tipo supreme eu sou tipo converse alalalalalalalala', 'rt @daylimns: ela é tipo supreme eu sou tipo converse alalalalalalalala', 'rt @daylimns: ela é tipo supreme eu sou tipo converse alalalalalalalala', 'rt @daylimns: ela é tipo supreme eu sou tipo converse alalalalalalalala', 'rt @daylimns: ela é tipo supreme eu sou tipo converse alalalalalalalala', 'não sei se compro um boné da supreme ou se compro um escrito fe', 'rt @daylimns: ela é tipo supreme eu sou tipo converse alalalalalalalala', 'rt @daylimns: ela é tipo supreme eu sou tipo converse alalalalalalalala', 'rt @daylimns: ela é tipo supreme eu sou tipo converse alalalalalalalala', 'bob’s lança sanduíche supreme artesanal | https://t.co/bm5jb78la3 https://t.co/dx0fzeakp3', 'rt @daylimns: ela é tipo supreme eu sou tipo converse alalalalalalalala', 'rt @daylimns: ela é tipo supreme eu sou tipo converse alalalalalalalala', 'rt @daylimns: ela é tipo supreme eu sou tipo converse alalalalalalalala', 'curta bart supreme tb', 'rt @daylimns: ela é tipo supreme eu sou tipo converse alalalalalalalala', 'rt @daylimns: ela é tipo supreme eu sou tipo converse alalalalalalalala', 'já dizia konai:\\n\\nesses cara é tipo supreme\\neu sou tipo converse', '@noteabner kkkkkkkkkkkkkkkkkkkkkk essa linha é bape colab com supreme, só pode', 'rt @daylimns: ela é tipo supreme eu sou tipo converse alalalalalalalala'], 4: ['supreme x comme des garcons\\nficou tesão de mais', 'gostei de um vídeo do @youtube https://t.co/5qacdvd4nq supreme x cdg drop i spent $10,000 *no joke*', 'com a supreme com tudo', '@dulcmila você não fala assim do supreme!', 'reclama de gente q compra roupa da supreme mas compra skin em jogo online', 'shoulder bag da supreme....\\ntô te paquerando', 'só queria pegar um cordão da versace e o novo drop da supreme, aquela camisa tá meccccc dmsss', 'bart supreme sabe onde fica o clitoris', 'já conhece todos os lançamentos da coleção supreme? 😍 são muitas novidades para aperfeiçoar ainda mais as suas produções. 💙 confira em um dos pontos de venda ou na loja virtual! #catharinehill #coleçaosupreme #makeup https://t.co/jvlpojfhyz', 'queria um tijolo da supreme 😍😍😍 acho tão topppp 😎😎😎😎😎😎😎😎', 'pra completar aquelas brusinha da supreme lindissima', 'mano andando de skate com uma calça da supreme no novo vídeo da new balance, skill em.']}\n"
     ]
    }
   ],
   "source": [
    "#função que transforma um dataframe em um dicionário\n",
    "def data_dici(data,string):\n",
    "    \n",
    "    #separa o dataframe em todas as categorias\n",
    "    \n",
    "    mneg=data[data.Positividade==0.0]\n",
    "    neg=data[data.Positividade==1.0]\n",
    "    neu=data[data.Positividade==2.0]\n",
    "    pos=data[data.Positividade==3.0]\n",
    "    mpos=data[data.Positividade==4.0]\n",
    "    \n",
    "    #cria um dicionário em que em cada chave há uma lista com todos os tweets de um tipo\n",
    "    dici={0:[],1:[],2:[],3:[],4:[]}\n",
    "    \n",
    "    for i in mneg[string].keys():\n",
    "        dici[0].append(mneg[string][i])\n",
    "\n",
    "    for i in neg[string].keys():\n",
    "        dici[1].append(neg[string][i])\n",
    "        \n",
    "    for i in neu[string].keys():\n",
    "        dici[2].append(neu[string][i])\n",
    "\n",
    "    for i in pos[string].keys():\n",
    "        dici[3].append(pos[string][i])\n",
    "        \n",
    "    for i in mpos[string].keys():\n",
    "        dici[4].append(mpos[string][i])\n",
    "\n",
    "    return dici\n",
    "dici_tre=data_dici(dad_na,'Treinamento')\n",
    "print(dici_tre)"
   ]
  },
  {
   "cell_type": "markdown",
   "metadata": {},
   "source": [
    "## Fase de Remoção"
   ]
  },
  {
   "cell_type": "markdown",
   "metadata": {},
   "source": [
    "Também criamos uma função que separa emojis de emojis e emojis de strings"
   ]
  },
  {
   "cell_type": "code",
   "execution_count": 15,
   "metadata": {},
   "outputs": [
    {
     "name": "stdout",
     "output_type": "stream",
     "text": [
      "['nāo', 'aguento', 'mais', 'ver', 'gente', 'com', 'roupas', 'da', 'gucci', 'e', 'da', 'supreme', 'mds', 'parece', 'uniforme', 'de', 'escola', 'todo', 'mundo', 'tem', 'kkk', '🤦🏾\\u200d♂️', '😂']\n"
     ]
    }
   ],
   "source": [
    "#função que separa emojis\n",
    "import functools\n",
    "import operator\n",
    "import re\n",
    "import emoji # Para o funcionamento, deve-se instalar essa biblioteca em sua máquina\n",
    "\n",
    "\n",
    "def emo(string):\n",
    "    em_split_emoji = emoji.get_emoji_regexp().split(string)\n",
    "    em_split_whitespace = [substr.split() for substr in em_split_emoji]\n",
    "    em_split = functools.reduce(operator.concat, em_split_whitespace)\n",
    "    \n",
    "    return em_split\n",
    "\n",
    "print(emo('nāo aguento mais ver gente com roupas da gucci e da supreme mds\\nparece uniforme de escola todo mundo tem kkk🤦🏾\\u200d♂️😂'))    "
   ]
  },
  {
   "cell_type": "markdown",
   "metadata": {},
   "source": [
    "Depois criamos uma função que pega um tweet e retorna uma lista de todas as strings componentes."
   ]
  },
  {
   "cell_type": "code",
   "execution_count": 16,
   "metadata": {},
   "outputs": [
    {
     "name": "stdout",
     "output_type": "stream",
     "text": [
      "['nāo', 'aguento', 'mais', 'ver', 'gente', 'com', 'roupas', 'da', 'gucci', 'e', 'da', 'supreme', 'mds', 'parece', 'uniforme', 'de', 'escola', 'todo', 'mundo', 'tem', 'kkk', '🤦🏾\\u200d♂️', '😂']\n"
     ]
    }
   ],
   "source": [
    "def separacao(frase):\n",
    "    #apaga os caracteres indesejáveis\n",
    "    lista = re.split('\\||\\n|@| |,|\\t;',frase)\n",
    "    \n",
    "    #apaga os links\n",
    "    i = len(lista)-1\n",
    "    while i >= 0:\n",
    "        if lista[i].startswith(\"https\") or lista[i]=='':\n",
    "            lista.remove(lista[i])\n",
    "        i-=1\n",
    "    #apaga o resto dos caracteres indesejáveis\n",
    "    new_lista=[]\n",
    "    for e in lista:\n",
    "        new_e=re.split('_|:|\\$|0|1|2|3|4|5|6|7|8|9|/|\\.',e)\n",
    "        new_lista+=new_e\n",
    "    #separa os emojis\n",
    "    final_lista=[]\n",
    "    for e in new_lista:\n",
    "        final_e=emo(e)\n",
    "        final_lista+=final_e\n",
    "    \n",
    "        \n",
    "    return final_lista\n",
    "\n",
    "print(separacao('nāo aguento mais ver gente com roupas da gucci e da supreme mds\\nparece uniforme de escola todo mundo tem kkk🤦🏾\\u200d♂️😂,,..$23'))"
   ]
  },
  {
   "cell_type": "markdown",
   "metadata": {},
   "source": [
    "Após isso, criamos um novo dicionário que recebe todas as palavras dos tweets, com a quantidade de aparições por categoria"
   ]
  },
  {
   "cell_type": "code",
   "execution_count": 17,
   "metadata": {},
   "outputs": [
    {
     "name": "stdout",
     "output_type": "stream",
     "text": [
      "[39, 73, 63, 88, 10]\n"
     ]
    }
   ],
   "source": [
    "new_dici={}\n",
    "\n",
    "for k in dici_tre:\n",
    "    v=dici_tre[k]\n",
    "    lista=[]\n",
    "    \n",
    "    for s in v:\n",
    "        lista+=separacao(s)\n",
    "        \n",
    "    #cria um novo dicionario com cada palavra e sua ocorrencia em cada categoria\n",
    "    for p in lista:\n",
    "        if p in new_dici:\n",
    "            new_dici[p][k] = new_dici[p][k]+1\n",
    "            \n",
    "        else:\n",
    "            new_dici[p] = [0,0,0,0,0]\n",
    "            new_dici[p][k] = 1 \n",
    "\n",
    "print(new_dici['supreme'])"
   ]
  },
  {
   "cell_type": "markdown",
   "metadata": {},
   "source": [
    "Depois, criamos uma função que calcula a probabilidade de uma palavra dada sua categoria, utilizando o método \"Laplace Smothing\". Essa função tem como argumento a palavra e a categoria que se deseja."
   ]
  },
  {
   "cell_type": "code",
   "execution_count": 18,
   "metadata": {},
   "outputs": [
    {
     "name": "stdout",
     "output_type": "stream",
     "text": [
      "0.022650056625141562 0.031841652323580036 0.0315893385982231 0.040253279059249206 0.008283132530120483\n"
     ]
    }
   ],
   "source": [
    "#numero de palavras de cada categoria\n",
    "n_mneg=0\n",
    "n_neg=0\n",
    "n_neu=0\n",
    "n_pos=0\n",
    "n_mpos=0\n",
    "\n",
    "\n",
    "for st in new_dici:\n",
    "    n_mneg+=new_dici[st][0]\n",
    "    n_neg+=new_dici[st][1]\n",
    "    n_neu+=new_dici[st][2]\n",
    "    n_pos+=new_dici[st][3]\n",
    "    n_mpos+=new_dici[st][4]\n",
    "    \n",
    "\n",
    "#função que calcula a probabilidade de uma certa palavra, dada a categoria\n",
    "def prob(palavra, sent):\n",
    "    \n",
    "    fell=[n_mneg,n_neg,n_neu,n_pos,n_mpos]\n",
    "    \n",
    "    if palavra in new_dici:\n",
    "    \n",
    "        \n",
    "        return (new_dici[palavra][sent]+1)/(len(new_dici)+fell[sent])\n",
    "        \n",
    "    else:\n",
    "        return 1/(len(new_dici)+fell[sent])\n",
    "    \n",
    "    \n",
    "print(prob('supreme', 0),prob('supreme', 1),prob('supreme', 2),prob('supreme', 3),prob('supreme', 4))"
   ]
  },
  {
   "cell_type": "markdown",
   "metadata": {},
   "source": [
    "Para terminar, criamos uma função que pega uma frase e calcula em qual categoria ela tem mais chance de se encaixar."
   ]
  },
  {
   "cell_type": "code",
   "execution_count": 19,
   "metadata": {},
   "outputs": [
    {
     "name": "stdout",
     "output_type": "stream",
     "text": [
      "1\n"
     ]
    }
   ],
   "source": [
    "\n",
    "total_tweets=n_mneg+n_neg+n_neu+n_pos+n_mpos\n",
    "\n",
    "#Probabilidade de cada uma das categorias\n",
    "probabilidade_mneg = n_mneg/total_tweets\n",
    "probabilidade_neg = n_neg/total_tweets\n",
    "probabilidade_neu = n_neu/total_tweets\n",
    "probabilidade_pos = n_pos/total_tweets\n",
    "probabilidade_mpos = n_mpos/total_tweets\n",
    "\n",
    "\n",
    "def classificacao(tweet):\n",
    "    \n",
    "    \n",
    "    #calcular as prob de cada categoria e pegar a maior usando o Laplace Smothing\n",
    "    mnegativo = probabilidade_mneg\n",
    "    negativo = probabilidade_neg\n",
    "    neutro = probabilidade_neu\n",
    "    positivo = probabilidade_pos\n",
    "    mpositivo = probabilidade_mpos\n",
    "    \n",
    "    l_palavras=separacao(tweet)\n",
    "    \n",
    "    for p in l_palavras:\n",
    "\n",
    "        mnegativo *= prob(p,0)\n",
    "        negativo *= prob(p,1)\n",
    "        neutro *= prob(p,2)\n",
    "        positivo *= prob(p,3)\n",
    "        mpositivo *= prob(p,4)\n",
    "\n",
    "        \n",
    "    dici_cada_prob={'Muito positivo':mpositivo,\n",
    "                    'Positivo':positivo,\n",
    "                    'Neutro':neutro,\n",
    "                    'Negativo':negativo,\n",
    "                    'Muito negativo':mnegativo}\n",
    "\n",
    "    dici_correlacao={'Muito positivo':4,'Positivo':3,'Neutro':2,'Negativo':1,'Muito negativo':0}\n",
    "    \n",
    "    maior=0\n",
    "    categoria=''\n",
    "    for c in dici_cada_prob:\n",
    "        if dici_cada_prob[c]>maior:\n",
    "            maior=dici_cada_prob[c]\n",
    "            categoria=c\n",
    "            \n",
    "    cat=categoria\n",
    "    num=dici_correlacao[categoria]\n",
    "        \n",
    "\n",
    "    return cat,num\n",
    "print(classificacao(' a supreme é muito ruim')[1])"
   ]
  },
  {
   "cell_type": "markdown",
   "metadata": {},
   "source": [
    "Esta função necessita de um dicionário em que todos os tweets de uma certa categoria fiquem no índice correspondente a ele, retornando três dicionários: \n",
    "\n",
    "O dicionário resultado, que mostra, para cada categoria, a porcentagem de tweets daquele tipo, segundo a categorização do naive bayes;\n",
    "{'Muito positivo': 2.57, 'Positivo': 34.93, 'Neutro': 24.26, 'Negativo': 26.1, 'Muito negativo': 12.13}\n",
    "\n",
    "\n",
    "O dicionário Comparação, que mostra, para cada categoria, no índice 0 a porcentagem daquela categoria que foram verdadeiros e no índice 1 a porcentagem daquela categoria que foram falsos;\n",
    "{'Muito positivo': [2.57, 0], 'Positivo': [30.15, 4.78], 'Neutro': [21.69, 2.57], 'Negativo': [23.9, 2.21], 'Muito negativo': [11.4, 0.74]}\n",
    "\n",
    "\n",
    "O dicionário Graus, que mostra a porcentagem de acertos total, a porcentagem de erro em uma categoria de \"distância\",duas categorias, três categorias e quatro categorias.\n",
    "{'Acertos': 89.71, 'Erro tipo 1': 4.04, 'Erro tipo 2': 5.51, 'Erro tipo 3': 0.37, 'Erro tipo 4': 0.37}"
   ]
  },
  {
   "cell_type": "code",
   "execution_count": 20,
   "metadata": {},
   "outputs": [
    {
     "name": "stdout",
     "output_type": "stream",
     "text": [
      "{'Muito positivo': 2.57, 'Positivo': 34.93, 'Neutro': 24.26, 'Negativo': 26.1, 'Muito negativo': 12.13}\n",
      "\n",
      "\n",
      "{'Muito positivo': [2.57, 0], 'Positivo': [30.15, 4.78], 'Neutro': [21.69, 2.57], 'Negativo': [23.9, 2.21], 'Muito negativo': [11.4, 0.74]}\n",
      "\n",
      "\n",
      "{'Acertos': 89.71, 'Erro tipo 1': 4.04, 'Erro tipo 2': 5.51, 'Erro tipo 3': 0.37, 'Erro tipo 4': 0.37}\n"
     ]
    }
   ],
   "source": [
    "def analise_completa(dicionario):\n",
    "    \n",
    "    total= len(dicionario[0])+len(dicionario[1])+len(dicionario[2])+len(dicionario[3])+len(dicionario[4])\n",
    "    \n",
    "    resultado={'Muito positivo':0,'Positivo':0,'Neutro':0,'Negativo':0,'Muito negativo':0}\n",
    "    comparacao={'Muito positivo':[0,0],'Positivo':[0,0],'Neutro':[0,0],'Negativo':[0,0],'Muito negativo':[0,0]}\n",
    "    graus={'Acertos':0,'Erro tipo 1':0,'Erro tipo 2':0,'Erro tipo 3':0,'Erro tipo 4':0}\n",
    "    \n",
    "    for k in dicionario:\n",
    "        for frase in dicionario[k]:\n",
    "            clas_c,clas_n = classificacao(frase)\n",
    "            resultado[clas_c]+=(100/total)\n",
    "            if clas_n==k:\n",
    "                comparacao[clas_c][0]+=(100/total)\n",
    "                graus['Acertos']+=(100/total)\n",
    "            else:\n",
    "                comparacao[clas_c][1]+=(100/total)\n",
    "                if abs(clas_n-k)==1:\n",
    "                    graus['Erro tipo 1']+=(100/total)\n",
    "                elif abs(clas_n-k)==2:\n",
    "                    graus['Erro tipo 2']+=(100/total)\n",
    "                elif abs(clas_n-k)==3:\n",
    "                    graus['Erro tipo 3']+=(100/total)\n",
    "                elif abs(clas_n-k)==4:\n",
    "                    graus['Erro tipo 4']+=(100/total)\n",
    "    for k in resultado:\n",
    "        resultado[k]=round(resultado[k],2)\n",
    "    for k in comparacao:\n",
    "        comparacao[k][0]=round(comparacao[k][0],2)\n",
    "        comparacao[k][1]=round(comparacao[k][1],2)\n",
    "    for k in graus:\n",
    "        graus[k]=round(graus[k],2)\n",
    "\n",
    "\n",
    "    return resultado,comparacao,graus\n",
    "\n",
    "print(analise_completa(dici_tre)[0])\n",
    "print('\\n')\n",
    "print(analise_completa(dici_tre)[1])\n",
    "print('\\n')\n",
    "print(analise_completa(dici_tre)[2])"
   ]
  },
  {
   "cell_type": "markdown",
   "metadata": {},
   "source": [
    "Para podermos usar a função anterior no teste, precisamos antes fazê-la virar um dicionário no formato aceito"
   ]
  },
  {
   "cell_type": "code",
   "execution_count": 21,
   "metadata": {},
   "outputs": [
    {
     "data": {
      "text/html": [
       "<div>\n",
       "<style scoped>\n",
       "    .dataframe tbody tr th:only-of-type {\n",
       "        vertical-align: middle;\n",
       "    }\n",
       "\n",
       "    .dataframe tbody tr th {\n",
       "        vertical-align: top;\n",
       "    }\n",
       "\n",
       "    .dataframe thead th {\n",
       "        text-align: right;\n",
       "    }\n",
       "</style>\n",
       "<table border=\"1\" class=\"dataframe\">\n",
       "  <thead>\n",
       "    <tr style=\"text-align: right;\">\n",
       "      <th></th>\n",
       "      <th>Teste</th>\n",
       "      <th>Relação Marca</th>\n",
       "      <th>Positividade</th>\n",
       "    </tr>\n",
       "  </thead>\n",
       "  <tbody>\n",
       "    <tr>\n",
       "      <th>0</th>\n",
       "      <td>ela é supreme eu smp preferi all star</td>\n",
       "      <td>1.0</td>\n",
       "      <td>1.0</td>\n",
       "    </tr>\n",
       "    <tr>\n",
       "      <th>3</th>\n",
       "      <td>sou fã desse cara\\nmeu avô no \"quanto custa o ...</td>\n",
       "      <td>1.0</td>\n",
       "      <td>3.0</td>\n",
       "    </tr>\n",
       "    <tr>\n",
       "      <th>5</th>\n",
       "      <td>@imstilllaura quanto custou esse violão da sup...</td>\n",
       "      <td>1.0</td>\n",
       "      <td>2.0</td>\n",
       "    </tr>\n",
       "    <tr>\n",
       "      <th>6</th>\n",
       "      <td>as luzes da zona sul, restaurantes no leblon\\n...</td>\n",
       "      <td>1.0</td>\n",
       "      <td>1.0</td>\n",
       "    </tr>\n",
       "    <tr>\n",
       "      <th>8</th>\n",
       "      <td>@foxscattergood ela é rica beu abor, a casa de...</td>\n",
       "      <td>1.0</td>\n",
       "      <td>1.0</td>\n",
       "    </tr>\n",
       "  </tbody>\n",
       "</table>\n",
       "</div>"
      ],
      "text/plain": [
       "                                               Teste  Relação Marca  \\\n",
       "0              ela é supreme eu smp preferi all star            1.0   \n",
       "3  sou fã desse cara\\nmeu avô no \"quanto custa o ...            1.0   \n",
       "5  @imstilllaura quanto custou esse violão da sup...            1.0   \n",
       "6  as luzes da zona sul, restaurantes no leblon\\n...            1.0   \n",
       "8  @foxscattergood ela é rica beu abor, a casa de...            1.0   \n",
       "\n",
       "   Positividade  \n",
       "0           1.0  \n",
       "3           3.0  \n",
       "5           2.0  \n",
       "6           1.0  \n",
       "8           1.0  "
      ]
     },
     "execution_count": 21,
     "metadata": {},
     "output_type": "execute_result"
    }
   ],
   "source": [
    "teste = pd.read_excel('tweets_supreme_teste.xlsx').dropna()\n",
    "teste.head()"
   ]
  },
  {
   "cell_type": "code",
   "execution_count": 22,
   "metadata": {},
   "outputs": [
    {
     "name": "stdout",
     "output_type": "stream",
     "text": [
      "{0: ['rt @portugalkg7: lucas paz ta com a pochete da minha avó, se ele colar alguma etiqueta da supreme na porra da correia eu vou ficar muito pu…', 'eu queria entender oq q passa na cabeça dos designers da supreme', '@jmoraesx nem réplica é kkkk é um pano c supreme estampado', 'não aguento mais ver blusa escrito supreme', 'aparentemente a camisa ranço da supreme tem proporções maiores q eu pensava e inclusive já está em níveis alarmantes de uso', 'lucas paz ta com a pochete da minha avó, se ele colar alguma etiqueta da supreme na porra da correia eu vou ficar muito puto com ele'], 1: ['ela é supreme eu smp preferi all star', 'as luzes da zona sul, restaurantes no leblon\\njordans, supreme, lebrons\\nmão no volante cigarro entre o dedo', '@foxscattergood ela é rica beu abor, a casa dela é feita de tijolo da supreme', 'ele não me convence com essas conversas, os cara é tipo supreme eu sou tipo converse.', 'rt @badgxrlmari: oq adianta supreme e bape se tu nao eh will smith???? fe', 'rt @renata1255_: essa semana só foi bolsonaro, gincana do adventista e supreme https://t.co/2bprvh6ztg', 'sou o maior youtube do mundo bro vou comprar uma camisa da supreme com meus dolls gang gang https://t.co/xjgq38fchr', '@saradonato016 pra falador é poucas né? online\\xa0cês reina e na rua cês treme. 155 no\\xa0boy\\xa0de supreme dentro do bate cabeça, é ubc nessa porra, talvez você não conheça', 'hoje apareceu um puto com tee da supreme na caixa e eu perguntei se dizia supreme spain na etiqueta e ele confirmou \\ndisse lhe que era fake supreme ficou triste como a noite', 'rt @badgxrlmari: oq adianta supreme e bape se tu nao eh will smith???? fe', '@yuuhmeireles o tijolo da supreme ué kkkkkkk', 'essas lojas que andam a vender supreme spain como supreme original deviam ter vergonha que falta de noção', 'nike sb e supreme fizeram coleção de tênis futsal !? ahahahahhahahjahajah', 'a supreme passou de todos os limites agora https://t.co/azqmf74wmp', 'rt @renata1255_: essa semana só foi bolsonaro, gincana do adventista e supreme https://t.co/2bprvh6ztg', '@diouwlz so se tu botar a logo da supreme na frente p por esse preço', 'fui em um rodeio hoje, cidade do interior, e vi diversas pessoas com camisas da gucci e supreme, chutando muito baixo, diria que metade dessas camisas eram falsas. é, pessoal realmente não entendeu o conceito de usar essas marcas...', 'rt @gonzalesjordao: do que adianta usar high, supreme e morar lá onde judas perdeu as botas? kkkkkkkk mas vai indo', 'gucci e supreme não é nada, eu quero os menor acreditando que pode chegar, mesmo com a mãe ligando desesperada pq a bala n para de cantar', 'meu pai me trouxe uma camiseta da supreme eu pedi desculpas umas 5x mas falei que nao vou usar akjsdahsuhe de jeito ninhum', 'é tão feio as pessoas usar supreme falso', 'n sei vcs, mas eu n curto as paradas da supreme, deve ser pq sou pobre kkk https://t.co/6xouzaemcv', '@luizbega18 @luandote @acacioneto10 @evandro7256 o que será supreme perto dos kit do exército', 'pior minha prima de 14 anos que tira foto parecendo uma pomba se empinando com camiseta da supreme, falando que é corinthiana mas é santista', 'rt @renata1255_: essa semana só foi bolsonaro, gincana do adventista e supreme https://t.co/2bprvh6ztg', 'qq é a pistola de dinheiro da supreme perto da pistola de dinheiro dourada do silvio santos?'], 2: ['@imstilllaura quanto custou esse violão da supreme?\\naliás,ótimo desenho ^^', '@dougraz se for da supreme? quanto vale?', 'rt @usdefsoul: supreme por favor patrocina o menino youngjae eh o sonho dele', '@saidaquimeo vou mandar junto com uns mimos da supreme', 'rt @seuestilom: t-shirt supreme ☠️\\n50$ + frete\\nenviamos para todo o brasil ✈️\\nmais informações na dm \\n\\n6 camisas por 180$😱😱\\n\\nobs: vale a pe…', 'eu nunca vi tanta gente usando supreme como aq no pks o shopping todo é rico e hype e eu nem sabia', '@taescientist sei la, pra mim é a dança do gordinho supreme', 'rt @vishmidia: coleman lança oficialmente para venda a minimoto em colab com a supreme, confira https://t.co/ubszcked7g https://t.co/ci5x0c…', 'rt @vishmidia: coleman lança oficialmente para venda a minimoto em colab com a supreme, confira https://t.co/ubszcked7g https://t.co/ci5x0c…', 'essa supreme naaamm', 'journals físico a pronta entrega, dvd com 69 vídeos do justin também e mais peças, a carteira da supreme também está disponível lá pra quem quiser. também temos produtos de roupas e calçados. pra quem não tiver ig e não pude chamar na direct chama na dm da @fkcsmarie', 'rt @vishmidia: coleman lança oficialmente para venda a minimoto em colab com a supreme, confira https://t.co/ubszcked7g https://t.co/ci5x0c…', 'rt @vishmidia: coleman lança oficialmente para venda a minimoto em colab com a supreme, confira https://t.co/ubszcked7g https://t.co/ci5x0c…', 'rt @michaugusto: supreme logo box, supreme vs louis vuitton, palace, bape e thrasher, quem se interessar chamar na dm, envio pra todo br e…', 'rt @usdefsoul: supreme por favor patrocina o menino youngjae eh o sonho dele', 'rt @vishmidia: coleman lança oficialmente para venda a minimoto em colab com a supreme, confira https://t.co/ubszcked7g https://t.co/ci5x0c…', 'rt @vishmidia: coleman lança oficialmente para venda a minimoto em colab com a supreme, confira https://t.co/ubszcked7g https://t.co/ci5x0c…', 'rt @vishmidia: coleman lança oficialmente para venda a minimoto em colab com a supreme, confira https://t.co/ubszcked7g https://t.co/ci5x0c…', 'rt @vishmidia: coleman lança oficialmente para venda a minimoto em colab com a supreme, confira https://t.co/ubszcked7g https://t.co/ci5x0c…', 'eu sei que a supreme ta na moda, mas to oferecendo. alguém que casaco migo? https://t.co/b5fsko523x', 'quando vai ter produtos renner supreme?', 'rt @vishmidia: coleman lança oficialmente para venda a minimoto em colab com a supreme, confira https://t.co/ubszcked7g https://t.co/ci5x0c…', '@brunoamorim_cnc @japonega16 e essa capinha da supreme quanto custou,seu outfit', 'perdi um boné da supreme agora n consigo dormir tentando lembrar onde, sdds', 'rt @vishmidia: coleman lança oficialmente para venda a minimoto em colab com a supreme, confira https://t.co/ubszcked7g https://t.co/ci5x0c…', 'rt @usdefsoul: supreme por favor patrocina o menino youngjae eh o sonho dele', 'rt @vishmidia: coleman lança oficialmente para venda a minimoto em colab com a supreme, confira https://t.co/ubszcked7g https://t.co/ci5x0c…', 'supreme: floral logo tee - teal\\nhttps://t.co/4z7gacxfw1\\nmedium, large\\n09/10/18 07:24:31 est', 'rt @amigogaybz: já fizeram uma camisa fake da supreme escrito \"supera\"?\\n\\né bom pra dar pra amiga, pros amigo, pra irmã, pro irmão, sempre s…'], 3: ['sou fã desse cara\\nmeu avô no \"quanto custa o outfit\" + sorteio supreme https://t.co/i8wa9b9rpf via @youtube', '@zzzwalle @julie_carvalhoo só eu ne? mano, tu é uma camisa da supreme por 45 reais', 'bom dia ai seus camisa da supreme', '@modruga tava escrito supreme na garrafa', 'alguém sabe onde é que se compra supreme em lisboa? o meu pai anda a ter sonhos molhados com uma tshirt deles já faz 2 anos', 'pelo menos eh da da supreme', 'me arrio nessa gente com o moletom  da supreme', '@dgvies kkkkk eu uso supreme bro sou feio mais tou no hype', 'gostei de um vídeo @youtube https://t.co/wosx6kf0zl🔥moletom thrasher - unboxing #4! - resultado sorteio supreme!🔥', '“usando supreme\\nlupa do cobain”', 'eu poderia tá criando pra supreme, off-white, kith, bape ou sei lá... mas tô cursando engenharia no interior do rio grande do sul', 'rt @opequenopassaro: bom dia ai seus camisa da supreme', 'pessoal pra quem n sabe eu e a @fkcsmarie estamos com essa lojinha online pra ajudar nos gastos, pois ela está morando cmg e no começo é difícil pois só eu estou trabalhando. então confere lá no https://t.co/wa7q5gq3as que tem produtos do justin, carteira da supreme entre outros https://t.co/hfcjednprc', 'vou fica um nojo com a blusa da supreme', 'rt @biebizzle: pessoal pra quem n sabe eu e a @fkcsmarie estamos com essa lojinha online pra ajudar nos gastos, pois ela está morando cmg e…', 'ter sentimentos é foda 💔\\nqueria ser um tijolo \\nmais... queria ser um tijolo da supreme', 'minha casa vai ser construída com tijolos da supreme', 'aff blusa da supreme e tao bunita', '@jaoguit usa sim vc tem inveja da minha blusa da supreme', 'pra esconder as marcas da cicatrizes\\nnesse boné da gucci paguei mil reais\\ncueca da supreme duzentos reais\\nmas sabe uma coisa que não tem preço\\né parar de ser bancado pelo pai', '@pablo_felpp pia, 5k tá um caiac da supreme, de verdade, imagino de 15 a 20 por aí', 'gostei de um vídeo @youtube https://t.co/jagqqhjovs avô no \"quanto custa o outfit\" + sorteio supreme'], 4: []}\n",
      "6 26\n"
     ]
    }
   ],
   "source": [
    "dici_teste=data_dici(teste,'Teste')\n",
    "print(dici_teste)\n",
    "print(len(dici_teste[0]),len(dici_teste[1]))"
   ]
  },
  {
   "cell_type": "code",
   "execution_count": 23,
   "metadata": {},
   "outputs": [
    {
     "name": "stdout",
     "output_type": "stream",
     "text": [
      "{'Acertos': 38.55, 'Erro tipo 1': 39.76, 'Erro tipo 2': 16.87, 'Erro tipo 3': 4.82, 'Erro tipo 4': 0}\n"
     ]
    }
   ],
   "source": [
    "print(analise_completa(dici_teste)[2])"
   ]
  },
  {
   "cell_type": "markdown",
   "metadata": {},
   "source": [
    "## Análise sobre o classificador"
   ]
  },
  {
   "cell_type": "markdown",
   "metadata": {},
   "source": [
    "O classificador teve um índice de acerto de 38.55% o que por si só pode ser visto como um índice alto de ineficácia, já que ele errou mais do que acertou, porém, vendo também em quais ele teve erro do tipo 1, que são erros considerados baixos, o seu índice de acertos ou erros \"baixos\" cresce para  78.31%,"
   ]
  },
  {
   "cell_type": "markdown",
   "metadata": {},
   "source": [
    "## É possível usar o classificador para gerar novos dados de treinamento?"
   ]
  },
  {
   "cell_type": "markdown",
   "metadata": {},
   "source": [
    "Vendo e analisando o nosso sistema implementado, pode ser dito que não podemos usar o classificador para fazer uma nova base de treinamento, pois uma vez programado, o classificador ficará preso aquilo que já foi classificado, criando  um ciclo vicioso, no qual o classificador classifica informações novas sem conter essas informações, ou seja, será totalmente tendencioso. É impossível criar algo novo a partir do que já está classificado."
   ]
  },
  {
   "cell_type": "markdown",
   "metadata": {},
   "source": [
    "## Quais seriam possiveis melhorias do classificador?"
   ]
  },
  {
   "cell_type": "markdown",
   "metadata": {},
   "source": [
    "A melhora dos resultados depende imensamente do número de tweets analisados. Para obter um resultado com maior confiabilidade, seria necessário um número maior de tweets, com técnicas mais avançadas, como a formação e análise de pares de palavras que adquirem um significado próprio. Sem a implantação de uma base maior de Tweets, a utilização de técnicas como a retirada de algumas palavras que não adquirem significancia no processo de classificação, como artigos e conjunções, dando mais ênfase aos substantivos e principalmente aos adjetivos (que caracterizam diretamente uma opinião). Assim, o classificador terá mais confiabilidade."
   ]
  },
  {
   "cell_type": "markdown",
   "metadata": {},
   "source": [
    "## Em quais outros ambientes poderia ser usado um sistema Naive Bayes?"
   ]
  },
  {
   "cell_type": "markdown",
   "metadata": {},
   "source": [
    "Uma vez com maior confiabilidade, nosso sistema (e o Naïve Bayes em si) pode ser usado em diversos outros meios, fora o de opiniões mercadológicas, como por exemplo o influenciamento digital, fazendo uma análise geral de escolhas em perfis de redes sociais como Twitter e Facebook, criando redes com pessoas de mesmo interesse. Da mesma forma, esse sistema pode ser útil criando matches em redes sociais cujo principal intuito é criar relacionamentos, fazendo análise de dados comuns entre perfis, e em quais perfis mais pessoas \"semelhantes\" ao esperado são visitantes. Também é possível fazer análise de perfis 'falsos' e 'automáticos' em redes sociais, impedindo assim, o influenciamento digital negativo."
   ]
  },
  {
   "cell_type": "markdown",
   "metadata": {},
   "source": [
    "## Conclusão final"
   ]
  },
  {
   "cell_type": "markdown",
   "metadata": {},
   "source": [
    "Assim, podemos concluir que utilizando dos métodos certos, podemos criar fontes de informações que podem mapear opiniões em diversas áreas do mercado, algo que pode ser bastante utilizado para o aumento da qualidade dos proodutos e serviços, e consequentemente uma roda econômica, aumentando a renda e o lucro."
   ]
  }
 ],
 "metadata": {
  "kernelspec": {
   "display_name": "Python 3",
   "language": "python",
   "name": "python3"
  },
  "language_info": {
   "codemirror_mode": {
    "name": "ipython",
    "version": 3
   },
   "file_extension": ".py",
   "mimetype": "text/x-python",
   "name": "python",
   "nbconvert_exporter": "python",
   "pygments_lexer": "ipython3",
   "version": "3.6.5"
  }
 },
 "nbformat": 4,
 "nbformat_minor": 2
}
