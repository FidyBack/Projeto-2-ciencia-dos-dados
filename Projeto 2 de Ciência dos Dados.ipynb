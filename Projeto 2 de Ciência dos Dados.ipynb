{
 "cells": [
  {
   "cell_type": "markdown",
   "metadata": {},
   "source": [
    "# Classificador naive bayes para a marca Supreme"
   ]
  },
  {
   "cell_type": "markdown",
   "metadata": {},
   "source": [
    "bla bla bla do gui s2"
   ]
  },
  {
   "cell_type": "code",
   "execution_count": 1,
   "metadata": {},
   "outputs": [],
   "source": [
    "import pandas as pd"
   ]
  },
  {
   "cell_type": "markdown",
   "metadata": {},
   "source": [
    "Primeiro, importamos os dados do excel de treinamento"
   ]
  },
  {
   "cell_type": "code",
   "execution_count": 11,
   "metadata": {},
   "outputs": [
    {
     "data": {
      "text/html": [
       "<div>\n",
       "<style scoped>\n",
       "    .dataframe tbody tr th:only-of-type {\n",
       "        vertical-align: middle;\n",
       "    }\n",
       "\n",
       "    .dataframe tbody tr th {\n",
       "        vertical-align: top;\n",
       "    }\n",
       "\n",
       "    .dataframe thead th {\n",
       "        text-align: right;\n",
       "    }\n",
       "</style>\n",
       "<table border=\"1\" class=\"dataframe\">\n",
       "  <thead>\n",
       "    <tr style=\"text-align: right;\">\n",
       "      <th></th>\n",
       "      <th>Treinamento</th>\n",
       "      <th>Relação Marca</th>\n",
       "      <th>Positividade</th>\n",
       "    </tr>\n",
       "  </thead>\n",
       "  <tbody>\n",
       "    <tr>\n",
       "      <th>0</th>\n",
       "      <td>rt @lugabriel_: eae vei quem achou uma carteir...</td>\n",
       "      <td>0</td>\n",
       "      <td>NaN</td>\n",
       "    </tr>\n",
       "    <tr>\n",
       "      <th>1</th>\n",
       "      <td>rt @renata1255_: essa semana só foi bolsonaro,...</td>\n",
       "      <td>1</td>\n",
       "      <td>0.0</td>\n",
       "    </tr>\n",
       "    <tr>\n",
       "      <th>2</th>\n",
       "      <td>rt @michaugusto: supreme fuck the president, g...</td>\n",
       "      <td>0</td>\n",
       "      <td>NaN</td>\n",
       "    </tr>\n",
       "    <tr>\n",
       "      <th>3</th>\n",
       "      <td>rt @vishmidia: coleman lança oficialmente para...</td>\n",
       "      <td>1</td>\n",
       "      <td>1.0</td>\n",
       "    </tr>\n",
       "    <tr>\n",
       "      <th>4</th>\n",
       "      <td>@berreccaa ebay for girls , supreme , dafiti t...</td>\n",
       "      <td>1</td>\n",
       "      <td>1.0</td>\n",
       "    </tr>\n",
       "  </tbody>\n",
       "</table>\n",
       "</div>"
      ],
      "text/plain": [
       "                                         Treinamento  Relação Marca  \\\n",
       "0  rt @lugabriel_: eae vei quem achou uma carteir...              0   \n",
       "1  rt @renata1255_: essa semana só foi bolsonaro,...              1   \n",
       "2  rt @michaugusto: supreme fuck the president, g...              0   \n",
       "3  rt @vishmidia: coleman lança oficialmente para...              1   \n",
       "4  @berreccaa ebay for girls , supreme , dafiti t...              1   \n",
       "\n",
       "   Positividade  \n",
       "0           NaN  \n",
       "1           0.0  \n",
       "2           NaN  \n",
       "3           1.0  \n",
       "4           1.0  "
      ]
     },
     "execution_count": 11,
     "metadata": {},
     "output_type": "execute_result"
    }
   ],
   "source": [
    "dados = pd.read_excel('tweets_supreme_treinamento.xlsx')\n",
    "\n",
    "dados.head()"
   ]
  },
  {
   "cell_type": "markdown",
   "metadata": {},
   "source": [
    "Após isso, removemos os tweets que não possuem relação com a marca"
   ]
  },
  {
   "cell_type": "code",
   "execution_count": 12,
   "metadata": {},
   "outputs": [
    {
     "data": {
      "text/html": [
       "<div>\n",
       "<style scoped>\n",
       "    .dataframe tbody tr th:only-of-type {\n",
       "        vertical-align: middle;\n",
       "    }\n",
       "\n",
       "    .dataframe tbody tr th {\n",
       "        vertical-align: top;\n",
       "    }\n",
       "\n",
       "    .dataframe thead th {\n",
       "        text-align: right;\n",
       "    }\n",
       "</style>\n",
       "<table border=\"1\" class=\"dataframe\">\n",
       "  <thead>\n",
       "    <tr style=\"text-align: right;\">\n",
       "      <th></th>\n",
       "      <th>Treinamento</th>\n",
       "      <th>Relação Marca</th>\n",
       "      <th>Positividade</th>\n",
       "    </tr>\n",
       "  </thead>\n",
       "  <tbody>\n",
       "    <tr>\n",
       "      <th>1</th>\n",
       "      <td>rt @renata1255_: essa semana só foi bolsonaro,...</td>\n",
       "      <td>1</td>\n",
       "      <td>0.0</td>\n",
       "    </tr>\n",
       "    <tr>\n",
       "      <th>3</th>\n",
       "      <td>rt @vishmidia: coleman lança oficialmente para...</td>\n",
       "      <td>1</td>\n",
       "      <td>1.0</td>\n",
       "    </tr>\n",
       "    <tr>\n",
       "      <th>4</th>\n",
       "      <td>@berreccaa ebay for girls , supreme , dafiti t...</td>\n",
       "      <td>1</td>\n",
       "      <td>1.0</td>\n",
       "    </tr>\n",
       "    <tr>\n",
       "      <th>6</th>\n",
       "      <td>eu só queria mata a chute quem usa roupa da su...</td>\n",
       "      <td>1</td>\n",
       "      <td>0.0</td>\n",
       "    </tr>\n",
       "    <tr>\n",
       "      <th>9</th>\n",
       "      <td>seis acha que nós é crime não me julgue, quero...</td>\n",
       "      <td>1</td>\n",
       "      <td>1.0</td>\n",
       "    </tr>\n",
       "  </tbody>\n",
       "</table>\n",
       "</div>"
      ],
      "text/plain": [
       "                                         Treinamento  Relação Marca  \\\n",
       "1  rt @renata1255_: essa semana só foi bolsonaro,...              1   \n",
       "3  rt @vishmidia: coleman lança oficialmente para...              1   \n",
       "4  @berreccaa ebay for girls , supreme , dafiti t...              1   \n",
       "6  eu só queria mata a chute quem usa roupa da su...              1   \n",
       "9  seis acha que nós é crime não me julgue, quero...              1   \n",
       "\n",
       "   Positividade  \n",
       "1           0.0  \n",
       "3           1.0  \n",
       "4           1.0  \n",
       "6           0.0  \n",
       "9           1.0  "
      ]
     },
     "execution_count": 12,
     "metadata": {},
     "output_type": "execute_result"
    }
   ],
   "source": [
    "dad_na=dados.dropna()\n",
    "\n",
    "dad_na.head()"
   ]
  },
  {
   "cell_type": "markdown",
   "metadata": {},
   "source": [
    "Depois disso, criamos uma função que transforma o dataframe em um dicionário"
   ]
  },
  {
   "cell_type": "code",
   "execution_count": 5,
   "metadata": {},
   "outputs": [
    {
     "name": "stdout",
     "output_type": "stream",
     "text": [
      "{0: ['rt @renata1255_: essa semana só foi bolsonaro, gincana do adventista e supreme https://t.co/2bprvh6ztg', 'eu só queria mata a chute quem usa roupa da supreme', 'mas essa desgraça de jogo num abaixa de preço nunca né? vcs acham que ostentação é selinho da supreme, ostentação de verdade é selinho da ea, bando de mercenarios arrombados', 'essa coleção nova da supreme tá sacanagem', 'rt @matinauov_69: @fckingwilson já vi tijolos da supreme 😂😂😂😂😂\\n\\nl minúsculo se não tiverem xailes', 'o supreme insiste em querer conversa, ba o cara e mt chato kkkk', '@singelasso se a supreme faz peita do scarface\\nacho que é kkkk', 'só tenho 5$ pra entrar na supreme será q eles deixa', 'meu tt só da supreme, não aguento mais', 'as loja da bape e supreme são as loja mais hypada vlho na moral, vir um vídeo na gringa e as filas são grande pra crlh', 'já fizeram uma camisa fake da supreme escrito \"supera\"?\\n\\né bom pra dar pra amiga, pros amigo, pra irmã, pro irmão, sempre se conhece alguém que pode usar esse conselho em forma de estampa', 'cachorro da supreme', '@victoralmeida_s moletom 30k, barba da supreme 2k, cabelo do justin bieber 15k, calça 1k, iphone x 10k', 'água no boêmia: 2,50\\nágua na supreme: 4 reais https://t.co/eohcmgvnek', '@aryyeleyb ele q fica abrindo a boca pra dizer q ama a burberry e supreme kkk. pelo menos deram uma camisa da burlon e uma da d&amp;g q acho linda', 'rt @renata1255_: essa semana só foi bolsonaro, gincana do adventista e supreme https://t.co/2bprvh6ztg', 'rt @jacirajanelinha: mas essa desgraça de jogo num abaixa de preço nunca né? vcs acham que ostentação é selinho da supreme, ostentação de v…', 'n da p levar beats p altar, ela é supreme e eu smp preferi all star', 'ela é supreme e eu sempre preferi all star', 'ela é tipo supreme eu sou tipo converse', '@luide @rebobinando acho que o da supreme ficaria mais chamativa se questionasse o porquê do preço em vez de quanto custa', 'essa semana só foi bolsonaro, gincana do adventista e supreme https://t.co/2bprvh6ztg', '@donab8na @brasil_fortnite você tem dinheiro pra jaqueta de reverse da supreme e não pra uns vbukinhos?', 'edilson deu tanto soco que deixou o gurizinho com cara de que fuma gudang e usa boné da supreme atormentado. dourado deveria ter mandado o maicon segurar as taças que ele já ganhou... opa, nenhuma. https://t.co/2wmbb8aoeo', 'gostei de um vídeo @youtube https://t.co/77bjcro9tj da supreme, entrei? a realidade das lojas hype em new york!', 'gucci e supreme não é nada\\neu quero os menor acreditando que pode chegar\\nmesmo com a mãe ligando desesperada\\nporque a bala não para de cantar ♫', 'kaos supreme distro say \\n\\n50k', 'rt @coelhomarle: ainda nao sei como a supreme  nao chamou o youngjae pra ser garoto propaganda deles @got7official #got7', 'gostei de um vídeo @youtube https://t.co/emgpsi7t3p da supreme, entrei? a realidade das lojas hype em new york!', 'do que adianta usar high, supreme e morar lá onde judas perdeu as botas? kkkkkkkk mas vai indo', 'rt @quebrandootabu: a @iggyazalea\\xa0comprando a briga pra defender uma mina no ~the voice gringo~. \"não importa o que você vestir, isso não f…', 'rt @renata1255_: essa semana só foi bolsonaro, gincana do adventista e supreme https://t.co/2bprvh6ztg', 'me da raiva dessas lojas vendendo réplicas escrotas da supreme \\U0001f92c🤢\\U0001f92e😷', 'rt @portugalkg7: lucas paz ta com a pochete da minha avó, se ele colar alguma etiqueta da supreme na porra da correia eu vou ficar muito pu…', 'galera do rap nacional em 2017 com quem curte mais som de fora: seus chupa pau de gringo, mela saco de gringo, rap de mensagem, não da valor pros muleke.\\n\\nos mesmos caras em 2018: autotune, soundcloud, ey, yo, bolsinha da supreme, camisa palace e strapback kkkk', 'rt @badgxrlmari: oq adianta supreme e bape se tu nao eh will smith???? fe', 'parecia camisa da supreme no arraial do meta kkkkkkkkkkkk', 'povo chato com porra de supreme, não aguento mais esse nome', 'os cara é tipo supreme \\neu sou tipo converse', 'rt @badgxrlmari: oq adianta supreme e bape se tu nao eh will smith???? fe', 'casaco da supre 6k @thesupremesaint manda uns pano pra nois carai.\\n#sabadodetremurasdv #supreme https://t.co/ofoiyfjnlm', 'rt @badgxrlmari: oq adianta supreme e bape se tu nao eh will smith???? fe', 'rt @danilopaulo15: eu lembro de uns bagui da supreme e fico rindo sozinho pô kkkkkkkkkkkkkk', 'ela é supreme, eu sempre preferi all star', 'eu lembro de uns bagui da supreme e fico rindo sozinho pô kkkkkkkkkkkkkk', 'rt @renata1255_: essa semana só foi bolsonaro, gincana do adventista e supreme https://t.co/2bprvh6ztg', 'e o nome dele é supreme', 'nāo aguento mais ver gente com roupas da gucci e da supreme mds\\nparece uniforme de escola todo mundo tem kkk🤦🏾\\u200d♂️😂', 'hoje é  dia de tacar fogo em burguês com camisa da supreme', 'esse povo com essas brusinha supreme que gritam falsiê, jurando que tao abalando\\n\\npreguiça', 'rt @eshugomes: sinto falta da época em que supreme e gucci eram grifes que poucos conheciam.', '@breenocpv @fodeu vo compra o tijolo da supreme soh pra taca na sua cabeça dps dessa', 'rt @_pedrooferreira: povo chato com porra de supreme, não aguento mais esse nome', 'rt @_pedrooferreira: povo chato com porra de supreme, não aguento mais esse nome', 'dá bué graças gajos com t-shirts falsas da supreme a armarem-se bué...', 'fazia tempo que não saía um drop da supreme que realmente dá vontade de comprar, igual esse feat novo com a cdg &lt;3', 'rt @badgxrlmari: oq adianta supreme e bape se tu nao eh will smith???? fe', 'sinto falta da época em que supreme e gucci eram grifes que poucos conheciam.'], 1: ['rt @vishmidia: coleman lança oficialmente para venda a minimoto em colab com a supreme, confira https://t.co/ubszcked7g https://t.co/ci5x0c…', '@berreccaa ebay for girls , supreme , dafiti tbm tem de tudo', 'seis acha que nós é crime não me julgue, quero as supreme e as dama chique !', 'o que me chocou mais do que a vogue vender boomerang\\n\\nfoi descobrir que a supreme vende tijolo', 'supreme x comme des garcons\\nficou tesão de mais', 'rt @vishmidia: coleman lança oficialmente para venda a minimoto em colab com a supreme, confira https://t.co/ubszcked7g https://t.co/ci5x0c…', 'rt @vishmidia: coleman lança oficialmente para venda a minimoto em colab com a supreme, confira https://t.co/ubszcked7g https://t.co/ci5x0c…', 'há coisas que não mudam #livelifehard #supreme #goodvibesonly #africafraturing #life em maculusso https://t.co/wnv1kn3rdf', 'nesse boné da gucci paguei mil reais\\ncueca da supreme duzentos reais\\nmas sabe uma coisa que não tem preço\\né parar de ser bancado pelo pai \\n\\nessa cara gasto nessa letra', '@dougraz só se for da supreme pq vou custar 30k', 'rt @usdefsoul: supreme por favor patrocina o menino youngjae eh o sonho dele', 'combo no boêmia:100(o mínimo)\\ncombo na supreme: 40 https://t.co/rmo0otop1a', '@luizapibernat vem com a logo da supreme', 'rt @vishmidia: coleman lança oficialmente para venda a minimoto em colab com a supreme, confira https://t.co/ubszcked7g https://t.co/ci5x0c…', 'rt @vishmidia: coleman lança oficialmente para venda a minimoto em colab com a supreme, confira https://t.co/ubszcked7g https://t.co/ci5x0c…', 'colab supreme x comme des garçons ta muitooo pesada', 'supreme e comme des garçons shirt apresentam nova colaboração e confirmam mais um air force 1 - https://t.co/by5c7yb09b', 'por dentro da coleção: hiury junges\\ntenho um vans\\num moletom da supreme velho\\numa camisa da assc\\nfim do vídeo', 'supreme x cdg\\nminha mãe podia me presentear', 'joao tem inveja de mim pq eu tenho uma blusa da supreme e ele n rs', 'acabei de ganhar uma peita da supreme do meu futuro namorado to tão feliz meus amigos', 'depois de levi’s e supreme, a marca agora é fila', 'rt @biebizzle: journals físico a pronta entrega, dvd com 69 vídeos do justin também e mais peças, a carteira da supreme também está disponí…', 'o mano qual a dessas pose dessa gente alternativona supreme?\\n\\né tipo\\nsusto\\ndança do maxixe\\npolias móveis\\npera que vo arruma o cabelo\\nque mais eh\\ndança do robô\\ncabelo foi no olho\\ncaiu agua na camisa\\nalguém parou do nada na tua frente no meio da rua\\ncortaram tua frente no trânsito https://t.co/kcdlahoy8j', 'acabei de ver mais um com as da supreme https://t.co/eg59iudogg', 'e eu que recebo e-mail da supreme kkkk', 'me compra 1 camisa da supreme — compro, mas tem q ir cmg https://t.co/vetbnmtfvf', 'a supreme faz as colaborações mais parvas do game!! fico parva man!! 🔥🔥🔥🔥🔥🔥🔥🔥🔥🔥🔥🔥🔥🔥', 'coleção supreme x comme des garçons shirt confirmada para quinta-feira: https://t.co/6rk6bjou68 https://t.co/sjuuznu7ni', 'mano supreme e bape eh mtt boa', '@exosneocity na época, isso era a própria supreme com a balenciaga junto com moschino', 'depois disso foi as kenner veio os nike e as supreme e umas novinha que ainda geme', 'nova coleção da supreme 🖤🖤🕊', 'guidão 4 peças | supreme united - https://t.co/whdxv8pv3x https://t.co/z5rsifd2ag', '@fckingwilson já vi tijolos da supreme 😂😂😂😂😂\\n\\nl minúsculo se não tiverem xailes', '@thedvart eu não percebo muito de supreme então estava à toa 🤣', 'rt @usdefsoul: supreme por favor patrocina o menino youngjae eh o sonho dele', 'querem patrocínio da supreme da skol', 'achei uma pochete da supreme pika', 'ai gente meu namorado vai pra escola todo lindo e cheiroso de champion e supreme 😍😍 so falta ser meu namorado de verdade', 'rt @vishmidia: coleman lança oficialmente para venda a minimoto em colab com a supreme, confira https://t.co/ubszcked7g https://t.co/ci5x0c…', 'supreme por favor patrocina o menino youngjae eh o sonho dele', 'descreditado até agora q eu comprei o tijolo da supreme kkkkkkkkkkkkkkkkkk', 'comprei um rebook classic, collor og, bag supreme em dólar no último drop e uma peita da champion, e ainda nem sou rico.', 'meu gesso tem uns três lugares escrito \"supreme\"', 'supreme ft louis vuitton também está bombando https://t.co/4rjshcad6j', 't-shirt supreme ☠️\\n50$ + frete\\nenviamos para todo o brasil ✈️\\nmais informações na dm \\n\\n6 camisas por 180$😱😱\\n\\nobs: vale a pena lembrar que estamos em promoção até o dia 15/09 https://t.co/9rwzzgvlvt', 'comprei uma capinha p meu cel da supreme 👌🏾', '@pdrolivieri eu jurava que era da supreme']}\n"
     ]
    }
   ],
   "source": [
    "#função que transforma um dataframe em um dicionário\n",
    "def data_dici(data,string):\n",
    "    \n",
    "    #separa o dataframe em todas as categorias\n",
    "    \n",
    "    neg=data[data.Positividade==0.0]\n",
    "    pos=data[data.Positividade==1.0]\n",
    "    \n",
    "    #cria um dicionário com todos os negativos na chave 0 e positivos na posição 1\n",
    "    dici={0:[],1:[]}\n",
    "    \n",
    "    for i in pos[string].keys():\n",
    "        dici[1].append(pos[string][i])\n",
    "\n",
    "    for i in neg[string].keys():\n",
    "        dici[0].append(neg[string][i])\n",
    "    return dici\n",
    "\n",
    "print(data_dici(dad_na,'Treinamento'))"
   ]
  },
  {
   "cell_type": "code",
   "execution_count": null,
   "metadata": {},
   "outputs": [],
   "source": [
    "# #função que transforma um dataframe em um dicionário\n",
    "# def data_dici(data,string):\n",
    "    \n",
    "#     #separa o dataframe em todas as categorias\n",
    "    \n",
    "#     m_neg=data[data.Positividade==1.0]\n",
    "#     neg=data[data.Positividade==2.0]\n",
    "#     neu=data[data.Positividade==3.0]\n",
    "#     pos=data[data.Positividade==4.0]\n",
    "#     m_pos=data[data.Positividade==5.0]\n",
    "    \n",
    "#     #cria um dicionário com todos os negativos na chave 0 e positivos na posição 1\n",
    "#     dici={1:[],2:[],3:[],4:[],5:[]}\n",
    "    \n",
    "#     for i in m_neg[string].keys():\n",
    "#         dici[1].append(m_neg[string][i])\n",
    "\n",
    "#     for i in neg[string].keys():\n",
    "#         dici[2].append(neg[string][i])\n",
    "        \n",
    "#     for i in neu[string].keys():\n",
    "#         dici[3].append(neu[string][i])\n",
    "\n",
    "#     for i in pos[string].keys():\n",
    "#         dici[4].append(pos[string][i])\n",
    "        \n",
    "#     for i in m_pos[string].keys():\n",
    "#         dici[5].append(m_pos[string][i])\n",
    "\n",
    "#     return dici\n",
    "\n",
    "# print(data_dici(dad_na,'Treinamento'))"
   ]
  },
  {
   "cell_type": "markdown",
   "metadata": {},
   "source": [
    "## Fase de Remoção"
   ]
  },
  {
   "cell_type": "markdown",
   "metadata": {},
   "source": [
    "Também criamos uma função que separa emojis de emojis e emojis de strings"
   ]
  },
  {
   "cell_type": "code",
   "execution_count": 14,
   "metadata": {},
   "outputs": [
    {
     "name": "stdout",
     "output_type": "stream",
     "text": [
      "['nāo', 'aguento', 'mais', 'ver', 'gente', 'com', 'roupas', 'da', 'gucci', 'e', 'da', 'supreme', 'mds', 'parece', 'uniforme', 'de', 'escola', 'todo', 'mundo', 'tem', 'kkk', '🤦🏾\\u200d♂️', '😂']\n"
     ]
    }
   ],
   "source": [
    "#função que separa emojis\n",
    "import functools\n",
    "import operator\n",
    "import re\n",
    "import emoji\n",
    "\n",
    "\n",
    "def emo(string):\n",
    "    em_split_emoji = emoji.get_emoji_regexp().split(string)\n",
    "    em_split_whitespace = [substr.split() for substr in em_split_emoji]\n",
    "    em_split = functools.reduce(operator.concat, em_split_whitespace)\n",
    "    \n",
    "    return em_split\n",
    "\n",
    "print(emo('nāo aguento mais ver gente com roupas da gucci e da supreme mds\\nparece uniforme de escola todo mundo tem kkk🤦🏾\\u200d♂️😂'))    "
   ]
  },
  {
   "cell_type": "code",
   "execution_count": null,
   "metadata": {},
   "outputs": [],
   "source": [
    "Depois"
   ]
  },
  {
   "cell_type": "code",
   "execution_count": 15,
   "metadata": {},
   "outputs": [
    {
     "name": "stdout",
     "output_type": "stream",
     "text": [
      "['nāo', 'aguento', 'mais', 'ver', 'gente', 'com', 'roupas', 'da', 'gucci', 'e', 'da', 'supreme', 'mds', 'parece', 'uniforme', 'de', 'escola', 'todo', 'mundo', 'tem', 'kkk', '🤦🏾\\u200d♂️', '😂']\n"
     ]
    }
   ],
   "source": [
    "def separacao(frase):\n",
    "    #apaga os caracteres indesejáveis\n",
    "    lista = re.split('\\||\\n|@| |,|\\t;',frase)\n",
    "    \n",
    "    #apaga os links\n",
    "    i = len(lista)-1\n",
    "    while i >= 0:\n",
    "        if lista[i].startswith(\"https\") or lista[i]=='':\n",
    "            lista.remove(lista[i])\n",
    "        i-=1\n",
    "    #apaga o resto dos caracteres indesejáveis\n",
    "    new_lista=[]\n",
    "    for e in lista:\n",
    "        new_e=re.split('_|:|\\$|0|1|2|3|4|5|6|7|8|9|/|\\.',e)\n",
    "        new_lista+=new_e\n",
    "    #separa os emojis\n",
    "    final_lista=[]\n",
    "    for e in new_lista:\n",
    "        final_e=emo(e)\n",
    "        final_lista+=final_e\n",
    "    \n",
    "        \n",
    "    return final_lista\n",
    "\n",
    "print(separacao('nāo aguento mais ver gente com roupas da gucci e da supreme mds\\nparece uniforme de escola todo mundo tem kkk🤦🏾\\u200d♂️😂,,..$23'))"
   ]
  },
  {
   "cell_type": "code",
   "execution_count": 367,
   "metadata": {},
   "outputs": [
    {
     "name": "stdout",
     "output_type": "stream",
     "text": [
      "{'rt': [17, 9], 'renata': [4, 0], 'essa': [8, 1], 'semana': [5, 0], 'só': [8, 1], 'foi': [5, 3], 'bolsonaro': [5, 0], 'gincana': [5, 0], 'do': [11, 8], 'adventista': [5, 0], 'e': [27, 14], 'supreme': [56, 46], 'eu': [10, 5], 'queria': [1, 0], 'mata': [1, 0], 'a': [14, 23], 'chute': [1, 0], 'quem': [2, 0], 'usa': [2, 0], 'roupa': [1, 0], 'da': [38, 23], 'mas': [3, 2], 'desgraça': [2, 0], 'de': [26, 10], 'jogo': [2, 0], 'num': [2, 0], 'abaixa': [2, 0], 'preço': [3, 1], 'nunca': [2, 0], 'né?': [2, 0], 'vcs': [2, 0], 'acham': [2, 0], 'que': [19, 12], 'ostentação': [4, 0], 'é': [13, 4], 'selinho': [3, 0], 'verdade': [1, 1], 'ea': [1, 0], 'bando': [1, 0], 'mercenarios': [1, 0], 'arrombados': [1, 0], 'coleção': [1, 3], 'nova': [1, 2], 'tá': [1, 0], 'sacanagem': [1, 0], 'matinauov': [1, 0], 'fckingwilson': [1, 1], 'já': [3, 1], 'vi': [1, 1], 'tijolos': [1, 1], '😂': [6, 5], 'l': [1, 1], 'minúsculo': [1, 1], 'se': [9, 2], 'não': [11, 5], 'tiverem': [1, 1], 'xailes': [1, 1], 'o': [10, 12], 'insiste': [1, 0], 'em': [10, 9], 'querer': [1, 0], 'conversa': [1, 0], 'ba': [1, 0], 'cara': [3, 1], 'mt': [1, 0], 'chato': [4, 0], 'kkkk': [3, 1], 'singelasso': [1, 0], 'faz': [1, 1], 'peita': [1, 2], 'scarface': [1, 0], 'acho': [3, 0], 'tenho': [1, 2], 'pra': [12, 1], 'entrar': [1, 0], 'na': [7, 5], 'será': [1, 0], 'q': [4, 2], 'eles': [1, 0], 'deixa': [1, 0], 'meu': [1, 5], 'tt': [1, 0], 'aguento': [5, 0], 'mais': [8, 8], 'as': [5, 6], 'loja': [2, 0], 'bape': [5, 1], 'são': [2, 0], 'hypada': [1, 0], 'vlho': [1, 0], 'moral': [1, 0], 'vir': [1, 0], 'um': [4, 5], 'vídeo': [3, 1], 'gringa': [1, 0], 'filas': [1, 0], 'grande': [1, 0], 'crlh': [1, 0], 'fizeram': [1, 0], 'uma': [4, 7], 'camisa': [5, 3], 'fake': [1, 0], 'escrito': [1, 1], '\"supera\"?': [1, 0], 'bom': [1, 0], 'dar': [1, 0], 'amiga': [1, 0], 'pros': [2, 0], 'amigo': [1, 0], 'irmã': [1, 0], 'pro': [1, 0], 'irmão': [1, 0], 'sempre': [3, 0], 'conhece': [1, 0], 'alguém': [1, 1], 'pode': [2, 0], 'usar': [2, 0], 'esse': [6, 0], 'conselho': [1, 0], 'forma': [1, 0], 'estampa': [1, 0], 'cachorro': [1, 0], 'victoralmeida': [1, 0], 's': [1, 0], 'moletom': [1, 1], 'k': [7, 1], 'barba': [1, 0], 'cabelo': [1, 2], 'justin': [1, 1], 'bieber': [1, 0], 'calça': [1, 0], 'iphone': [1, 0], 'x': [1, 4], 'água': [2, 0], 'no': [3, 5], 'boêmia': [1, 1], 'reais': [1, 2], 'aryyeleyb': [1, 0], 'ele': [3, 1], 'fica': [1, 0], 'abrindo': [1, 0], 'boca': [1, 0], 'dizer': [1, 0], 'ama': [1, 0], 'burberry': [1, 0], 'kkk': [2, 0], 'pelo': [1, 1], 'menos': [1, 0], 'deram': [1, 0], 'burlon': [1, 0], 'd&amp;g': [1, 0], 'linda': [1, 0], 'jacirajanelinha': [1, 0], 'v…': [1, 0], 'n': [1, 1], 'p': [2, 1], 'levar': [1, 0], 'beats': [1, 0], 'altar': [1, 0], 'ela': [4, 0], 'smp': [1, 0], 'preferi': [3, 0], 'all': [3, 0], 'star': [3, 0], 'tipo': [4, 1], 'sou': [2, 1], 'converse': [2, 0], 'luide': [1, 0], 'rebobinando': [1, 0], 'ficaria': [1, 0], 'chamativa': [1, 0], 'questionasse': [1, 0], 'porquê': [1, 0], 'vez': [1, 0], 'quanto': [1, 0], 'custa': [1, 0], 'donab': [1, 0], 'brasil': [1, 1], 'fortnite': [1, 0], 'você': [2, 0], 'tem': [2, 5], 'dinheiro': [1, 0], 'jaqueta': [1, 0], 'reverse': [1, 0], 'uns': [4, 1], 'vbukinhos?': [1, 0], 'edilson': [1, 0], 'deu': [1, 0], 'tanto': [1, 0], 'soco': [1, 0], 'deixou': [1, 0], 'gurizinho': [1, 0], 'com': [12, 11], 'fuma': [1, 0], 'gudang': [1, 0], 'boné': [1, 1], 'atormentado': [1, 0], 'dourado': [1, 0], 'deveria': [1, 0], 'ter': [1, 0], 'mandado': [1, 0], 'maicon': [1, 0], 'segurar': [1, 0], 'taças': [1, 0], 'ganhou': [1, 0], 'opa': [1, 0], 'nenhuma': [1, 0], 'gostei': [2, 0], 'youtube': [2, 0], 'entrei?': [2, 0], 'realidade': [2, 0], 'das': [2, 0], 'lojas': [3, 0], 'hype': [2, 0], 'new': [2, 0], 'york!': [2, 0], 'gucci': [4, 1], 'nada': [1, 1], 'quero': [1, 1], 'os': [3, 1], 'menor': [1, 0], 'acreditando': [1, 0], 'chegar': [1, 0], 'mesmo': [1, 0], 'mãe': [1, 1], 'ligando': [1, 0], 'desesperada': [1, 0], 'porque': [1, 0], 'bala': [1, 0], 'para': [1, 8], 'cantar': [1, 0], '♫': [1, 0], 'kaos': [1, 0], 'distro': [1, 0], 'say': [1, 0], 'coelhomarle': [1, 0], 'ainda': [1, 2], 'nao': [6, 0], 'sei': [1, 0], 'como': [1, 0], 'chamou': [1, 0], 'youngjae': [1, 3], 'ser': [1, 2], 'garoto': [1, 0], 'propaganda': [1, 0], 'deles': [1, 0], 'got': [1, 0], 'official': [1, 0], '#got': [1, 0], 'adianta': [5, 0], 'high': [1, 0], 'morar': [1, 0], 'lá': [1, 0], 'onde': [1, 0], 'judas': [1, 0], 'perdeu': [1, 0], 'botas?': [1, 0], 'kkkkkkkk': [1, 0], 'vai': [1, 1], 'indo': [1, 0], 'quebrandootabu': [1, 0], 'iggyazalea': [1, 0], 'comprando': [1, 0], 'briga': [1, 0], 'defender': [1, 0], 'mina': [1, 0], '~the': [1, 0], 'voice': [1, 0], 'gringo~': [1, 0], '\"não': [1, 0], 'importa': [1, 0], 'vestir': [1, 0], 'isso': [1, 1], 'f…': [1, 0], 'me': [1, 4], 'raiva': [1, 0], 'dessas': [1, 1], 'vendendo': [1, 0], 'réplicas': [1, 0], 'escrotas': [1, 0], '\\U0001f92c': [1, 0], '🤢': [1, 0], '\\U0001f92e': [1, 0], '😷': [1, 0], 'portugalkg': [1, 0], 'lucas': [1, 0], 'paz': [1, 0], 'ta': [1, 1], 'pochete': [1, 1], 'minha': [1, 1], 'avó': [1, 0], 'colar': [1, 0], 'alguma': [1, 0], 'etiqueta': [1, 0], 'porra': [4, 0], 'correia': [1, 0], 'vou': [1, 1], 'ficar': [1, 0], 'muito': [1, 1], 'pu…': [1, 0], 'galera': [1, 0], 'rap': [2, 0], 'nacional': [1, 0], 'curte': [1, 0], 'som': [1, 0], 'fora': [1, 0], 'seus': [1, 0], 'chupa': [1, 0], 'pau': [1, 0], 'gringo': [2, 0], 'mela': [1, 0], 'saco': [1, 0], 'mensagem': [1, 0], 'valor': [1, 0], 'muleke': [1, 0], 'mesmos': [1, 0], 'caras': [1, 0], 'autotune': [1, 0], 'soundcloud': [1, 0], 'ey': [1, 0], 'yo': [1, 0], 'bolsinha': [1, 0], 'palace': [1, 0], 'strapback': [1, 0], 'badgxrlmari': [4, 0], 'oq': [4, 0], 'tu': [4, 0], 'eh': [4, 5], 'will': [4, 0], 'smith????': [4, 0], 'fe': [4, 0], 'parecia': [1, 0], 'arraial': [1, 0], 'meta': [1, 0], 'kkkkkkkkkkkk': [1, 0], 'povo': [4, 0], 'nome': [4, 0], 'casaco': [1, 0], 'supre': [1, 0], 'thesupremesaint': [1, 0], 'manda': [1, 0], 'pano': [1, 0], 'nois': [1, 0], 'carai': [1, 0], '#sabadodetremurasdv': [1, 0], '#supreme': [1, 1], 'danilopaulo': [1, 0], 'lembro': [2, 0], 'bagui': [2, 0], 'fico': [2, 1], 'rindo': [2, 0], 'sozinho': [2, 0], 'pô': [2, 0], 'kkkkkkkkkkkkkk': [2, 0], 'dele': [1, 3], 'nāo': [1, 0], 'ver': [1, 1], 'gente': [1, 2], 'roupas': [1, 0], 'mds': [1, 0], 'parece': [1, 0], 'uniforme': [1, 0], 'escola': [1, 1], 'todo': [1, 2], 'mundo': [1, 0], '🤦🏾\\u200d♂️': [1, 0], 'hoje': [1, 0], 'dia': [1, 1], 'tacar': [1, 0], 'fogo': [1, 0], 'burguês': [1, 0], 'essas': [1, 0], 'brusinha': [1, 0], 'gritam': [1, 0], 'falsiê': [1, 0], 'jurando': [1, 0], 'tao': [1, 0], 'abalando': [1, 0], 'preguiça': [1, 0], 'eshugomes': [1, 0], 'sinto': [2, 0], 'falta': [2, 1], 'época': [2, 1], 'eram': [2, 0], 'grifes': [2, 0], 'poucos': [2, 0], 'conheciam': [2, 0], 'breenocpv': [1, 0], 'fodeu': [1, 0], 'vo': [1, 1], 'compra': [1, 1], 'tijolo': [1, 2], 'soh': [1, 0], 'taca': [1, 0], 'sua': [1, 0], 'cabeça': [1, 0], 'dps': [1, 0], 'dessa': [1, 1], 'pedrooferreira': [2, 0], 'dá': [2, 0], 'bué': [2, 0], 'graças': [1, 0], 'gajos': [1, 0], 't-shirts': [1, 0], 'falsas': [1, 0], 'armarem-se': [1, 0], 'fazia': [1, 0], 'tempo': [1, 0], 'saía': [1, 0], 'drop': [1, 1], 'realmente': [1, 0], 'vontade': [1, 0], 'comprar': [1, 0], 'igual': [1, 0], 'feat': [1, 0], 'novo': [1, 0], 'cdg': [1, 1], '&lt;': [1, 0], 'vishmidia': [0, 6], 'coleman': [0, 6], 'lança': [0, 6], 'oficialmente': [0, 6], 'venda': [0, 6], 'minimoto': [0, 6], 'colab': [0, 7], 'confira': [0, 6], 'berreccaa': [0, 1], 'ebay': [0, 1], 'for': [0, 2], 'girls': [0, 1], 'dafiti': [0, 1], 'tbm': [0, 1], 'tudo': [0, 1], 'seis': [0, 1], 'acha': [0, 1], 'nós': [0, 1], 'crime': [0, 1], 'julgue': [0, 1], 'dama': [0, 1], 'chique': [0, 1], '!': [0, 1], 'chocou': [0, 1], 'vogue': [0, 1], 'vender': [0, 1], 'boomerang': [0, 1], 'descobrir': [0, 1], 'vende': [0, 1], 'comme': [0, 4], 'des': [0, 4], 'garcons': [0, 1], 'ficou': [0, 1], 'tesão': [0, 1], 'há': [0, 1], 'coisas': [0, 1], 'mudam': [0, 1], '#livelifehard': [0, 1], '#goodvibesonly': [0, 1], '#africafraturing': [0, 1], '#life': [0, 1], 'maculusso': [0, 1], 'nesse': [0, 1], 'paguei': [0, 1], 'mil': [0, 1], 'cueca': [0, 1], 'duzentos': [0, 1], 'sabe': [0, 1], 'coisa': [0, 1], 'parar': [0, 1], 'bancado': [0, 1], 'pai': [0, 1], 'gasto': [0, 1], 'nessa': [0, 1], 'letra': [0, 1], 'dougraz': [0, 1], 'pq': [0, 2], 'custar': [0, 1], 'usdefsoul': [0, 2], 'por': [0, 5], 'favor': [0, 3], 'patrocina': [0, 3], 'menino': [0, 3], 'sonho': [0, 3], 'combo': [0, 2], '(o': [0, 1], 'mínimo)': [0, 1], 'luizapibernat': [0, 1], 'vem': [0, 1], 'logo': [0, 1], 'garçons': [0, 3], 'muitooo': [0, 1], 'pesada': [0, 1], 'shirt': [0, 2], 'apresentam': [0, 1], 'colaboração': [0, 1], 'confirmam': [0, 1], 'air': [0, 1], 'force': [0, 1], '-': [0, 2], 'dentro': [0, 1], 'hiury': [0, 1], 'junges': [0, 1], 'vans': [0, 1], 'velho': [0, 1], 'assc': [0, 1], 'fim': [0, 1], 'podia': [0, 1], 'presentear': [0, 1], 'joao': [0, 1], 'inveja': [0, 1], 'mim': [0, 1], 'blusa': [0, 1], 'rs': [0, 1], 'acabei': [0, 2], 'ganhar': [0, 1], 'futuro': [0, 1], 'namorado': [0, 3], 'to': [0, 1], 'tão': [0, 1], 'feliz': [0, 1], 'meus': [0, 1], 'amigos': [0, 1], 'depois': [0, 2], 'levi’s': [0, 1], 'marca': [0, 1], 'agora': [0, 2], 'fila': [0, 1], 'biebizzle': [0, 1], 'journals': [0, 1], 'físico': [0, 1], 'pronta': [0, 1], 'entrega': [0, 1], 'dvd': [0, 1], 'vídeos': [0, 1], 'também': [0, 3], 'peças': [0, 2], 'carteira': [0, 1], 'está': [0, 2], 'disponí…': [0, 1], 'mano': [0, 2], 'qual': [0, 1], 'pose': [0, 1], 'alternativona': [0, 1], 'supreme?': [0, 1], 'susto': [0, 1], 'dança': [0, 2], 'maxixe': [0, 1], 'polias': [0, 1], 'móveis': [0, 1], 'pera': [0, 1], 'arruma': [0, 1], 'robô': [0, 1], 'olho': [0, 1], 'caiu': [0, 1], 'agua': [0, 1], 'parou': [0, 1], 'tua': [0, 2], 'frente': [0, 2], 'meio': [0, 1], 'rua': [0, 1], 'cortaram': [0, 1], 'trânsito': [0, 1], 'recebo': [0, 1], 'e-mail': [0, 1], '—': [0, 1], 'compro': [0, 1], 'ir': [0, 1], 'cmg': [0, 1], 'colaborações': [0, 1], 'parvas': [0, 1], 'game!!': [0, 1], 'parva': [0, 1], 'man!!': [0, 1], '🔥': [0, 14], 'confirmada': [0, 1], 'quinta-feira': [0, 1], 'mtt': [0, 1], 'boa': [0, 1], 'exosneocity': [0, 1], 'era': [0, 2], 'própria': [0, 1], 'balenciaga': [0, 1], 'junto': [0, 1], 'moschino': [0, 1], 'disso': [0, 1], 'kenner': [0, 1], 'veio': [0, 1], 'nike': [0, 1], 'umas': [0, 1], 'novinha': [0, 1], 'geme': [0, 1], '🖤': [0, 2], '🕊': [0, 1], 'guidão': [0, 1], 'united': [0, 1], 'thedvart': [0, 1], 'percebo': [0, 1], 'então': [0, 1], 'estava': [0, 1], 'à': [0, 1], 'toa': [0, 1], '🤣': [0, 1], 'querem': [0, 1], 'patrocínio': [0, 1], 'skol': [0, 1], 'achei': [0, 1], 'pika': [0, 1], 'ai': [0, 1], 'lindo': [0, 1], 'cheiroso': [0, 1], 'champion': [0, 2], '😍': [0, 2], 'so': [0, 1], 'descreditado': [0, 1], 'até': [0, 2], 'comprei': [0, 3], 'kkkkkkkkkkkkkkkkkk': [0, 1], 'rebook': [0, 1], 'classic': [0, 1], 'collor': [0, 1], 'og': [0, 1], 'bag': [0, 1], 'dólar': [0, 1], 'último': [0, 1], 'nem': [0, 1], 'rico': [0, 1], 'gesso': [0, 1], 'três': [0, 1], 'lugares': [0, 1], '\"supreme\"': [0, 1], 'ft': [0, 1], 'louis': [0, 1], 'vuitton': [0, 1], 'bombando': [0, 1], 't-shirt': [0, 1], '☠': [0, 1], '️': [0, 2], '+': [0, 1], 'frete': [0, 1], 'enviamos': [0, 1], '✈': [0, 1], 'informações': [0, 1], 'dm': [0, 1], 'camisas': [0, 1], '😱': [0, 2], 'obs': [0, 1], 'vale': [0, 1], 'pena': [0, 1], 'lembrar': [0, 1], 'estamos': [0, 1], 'promoção': [0, 1], 'capinha': [0, 1], 'cel': [0, 1], '👌🏾': [0, 1], 'pdrolivieri': [0, 1], 'jurava': [0, 1]}\n"
     ]
    }
   ],
   "source": [
    "new_dici={}\n",
    "\n",
    "for k in dici:\n",
    "    v=dici[k]\n",
    "    lista=[]\n",
    "    \n",
    "    for s in v:\n",
    "        lista+=separacao(s)\n",
    "        \n",
    "    #cria um novo dicionario com cada palavra e sua ocorrencia positiva e negativamente \n",
    "    for p in lista:\n",
    "        if p in new_dici:\n",
    "            new_dici[p][k] = new_dici[p][k]+1\n",
    "            \n",
    "        else:\n",
    "            new_dici[p] = [0,0]\n",
    "            new_dici[p][k] = 1 \n",
    "\n",
    "print(new_dici)\n",
    "\n"
   ]
  },
  {
   "cell_type": "code",
   "execution_count": null,
   "metadata": {},
   "outputs": [],
   "source": [
    "new_dici={}\n",
    "\n",
    "for k in dici:\n",
    "    v=dici[k]\n",
    "    lista=[]\n",
    "    \n",
    "    for s in v:\n",
    "        lista+=separacao(s)\n",
    "        \n",
    "    #cria um novo dicionario com cada palavra e sua ocorrencia positiva e negativamente \n",
    "    for p in lista:\n",
    "        if p in new_dici:\n",
    "            new_dici[p][k] = new_dici[p][k]+1\n",
    "            \n",
    "        else:\n",
    "            new_dici[p] = [0,0]\n",
    "            new_dici[p][k] = 1 \n",
    "\n",
    "print(new_dici)"
   ]
  },
  {
   "cell_type": "code",
   "execution_count": 369,
   "metadata": {},
   "outputs": [
    {
     "name": "stdout",
     "output_type": "stream",
     "text": [
      "0.036053130929791274 0.03466076696165192\n"
     ]
    }
   ],
   "source": [
    "#numero de palavras positivos e negativos \n",
    "n_neg=0\n",
    "n_pos=0\n",
    "\n",
    "for st in new_dici:\n",
    "    n_neg+=new_dici[st][0]\n",
    "    n_pos+=new_dici[st][1]\n",
    "    \n",
    "\n",
    "#função que calcula a probabilidade de uma certa palavra, dado o sentimento(positivo ou negativo)\n",
    "def prob(palavra, sent):\n",
    "    \n",
    "    fell=[n_neg,n_pos]\n",
    "    \n",
    "    if palavra in new_dici:\n",
    "    \n",
    "        \n",
    "        return (new_dici[palavra][sent]+1)/(len(new_dici)+fell[sent])\n",
    "        \n",
    "    else:\n",
    "        return 1/(len(new_dici)+fell[sent])\n",
    "    \n",
    "    \n",
    "print(prob('supreme', 0),prob('supreme', 1))"
   ]
  },
  {
   "cell_type": "code",
   "execution_count": 379,
   "metadata": {},
   "outputs": [
    {
     "name": "stdout",
     "output_type": "stream",
     "text": [
      "(0, 'Negativo')\n"
     ]
    }
   ],
   "source": [
    "#número que é decidido para dar \"peso aos tweets\"\n",
    "probabilidade_pos = n_pos/(n_pos+n_neg)\n",
    "\n",
    "def classificacao(tweet):\n",
    "    \n",
    "    \n",
    "    #calcular as prob positivas e negativas e compará-las\n",
    "    negativo = 1-probabilidade_pos\n",
    "    positivo = probabilidade_pos\n",
    "    \n",
    "    l_palavras=separacao(tweet)\n",
    "    \n",
    "    for p in l_palavras:\n",
    "        \n",
    "        negativo *= prob(p,0)\n",
    "        positivo *= prob(p,1)  \n",
    "        \n",
    "    prob_neg=negativo*100/(negativo+positivo)\n",
    "    prob_pos=positivo*100/(negativo+positivo)\n",
    "\n",
    "    #retorna 1 se o tweet for positivo e 0 se for negativo\n",
    "    if prob_pos>prob_neg:\n",
    "        prim=1\n",
    "    else:\n",
    "        prim=0\n",
    "    #retorna níveis de positividade\n",
    "    if prob_pos>=80:\n",
    "        seg='Muito positivo'\n",
    "    elif prob_pos>=60:\n",
    "        seg='Positivo'\n",
    "    elif prob_pos>=40:\n",
    "        seg='Neutro'\n",
    "    elif prob_pos>=20:\n",
    "        seg='Negativo'\n",
    "    else:\n",
    "        seg='Muito negativo'\n",
    "    \n",
    "    return prim,seg\n",
    "print(classificacao('supreme é ruim'))"
   ]
  },
  {
   "cell_type": "markdown",
   "metadata": {},
   "source": [
    "Esta função necessita de um dicionário em que todos os tweets positivos fiquem numa lista na chave 1 e os negativos em uma lista na chave 0, retornando um outro dicionario com a chave 0 representando os tweest negativos e 1 para os tweets positivos, sendo que pra cada um deles o primeiro item da lista representa quantos tweets foram certos e o segundo quantos tweets foram errados,\n",
    "por exemplo {0:[10,20],1:[2,40]} mostra que houveram 10 negativos verdadeiros e 20 negativos falsos."
   ]
  },
  {
   "cell_type": "code",
   "execution_count": 388,
   "metadata": {},
   "outputs": [
    {
     "name": "stdout",
     "output_type": "stream",
     "text": [
      "{'n_positivos_verdadeiros': 43.93, 'n_positivos_falsos': 0.0, 'n_negativos_verdadeiros': 54.21, 'n_negativos_falsos': 1.87}\n"
     ]
    }
   ],
   "source": [
    "def analise_completa(dicionario):\n",
    "    \n",
    "    comparacao={0:[0,0],1:[0,0]}\n",
    "    comparacao_niveis={'Muito positivo':0,'Positivo':0,'Neutro':0,'Negativo':0,'Muito negativo':0}\n",
    "\n",
    "    for k in dicionario:\n",
    "        for frase in dicionario[k]:\n",
    "            if classificacao(frase)[0]==k:\n",
    "                comparacao[k][0]=comparacao[k][0]+1\n",
    "            else:\n",
    "                comparacao[k][1]=comparacao[k][1]+1\n",
    "            \n",
    "            comparacao_niveis[classificacao(frase)[1]]+=1\n",
    "            \n",
    "    total=comparacao[0][0]+comparacao[0][1]+comparacao[1][0]+comparacao[1][1]\n",
    "   \n",
    "    comparacao_final={'n_positivos_verdadeiros':round(comparacao[1][0]*100/total,2),\n",
    "                      'n_positivos_falsos':round(comparacao[0][1]*100/total,2),\n",
    "                      'n_negativos_verdadeiros':round(comparacao[0][0]*100/total,2),\n",
    "                      'n_negativos_falsos':round(comparacao[1][1]*100/total,2)}\n",
    "    comparacao_niveis_final={'Muito positivo':comparacao_niveis['Muito positivo'],\n",
    "                             'Positivo':0,\n",
    "                             'Neutro':0,\n",
    "                             'Negativo':0,\n",
    "                             'Muito negativo':0}\n",
    "    return comparacao_final,comparacao_niveis\n",
    "\n",
    "print(analise_completa(dici)[0])"
   ]
  },
  {
   "cell_type": "code",
   "execution_count": 378,
   "metadata": {},
   "outputs": [
    {
     "data": {
      "text/html": [
       "<div>\n",
       "<style scoped>\n",
       "    .dataframe tbody tr th:only-of-type {\n",
       "        vertical-align: middle;\n",
       "    }\n",
       "\n",
       "    .dataframe tbody tr th {\n",
       "        vertical-align: top;\n",
       "    }\n",
       "\n",
       "    .dataframe thead th {\n",
       "        text-align: right;\n",
       "    }\n",
       "</style>\n",
       "<table border=\"1\" class=\"dataframe\">\n",
       "  <thead>\n",
       "    <tr style=\"text-align: right;\">\n",
       "      <th></th>\n",
       "      <th>Teste</th>\n",
       "      <th>Relação Marca</th>\n",
       "      <th>Positividade</th>\n",
       "    </tr>\n",
       "  </thead>\n",
       "  <tbody>\n",
       "    <tr>\n",
       "      <th>0</th>\n",
       "      <td>ela é supreme eu smp preferi all star</td>\n",
       "      <td>1.0</td>\n",
       "      <td>1.0</td>\n",
       "    </tr>\n",
       "    <tr>\n",
       "      <th>3</th>\n",
       "      <td>sou fã desse cara\\nmeu avô no \"quanto custa o ...</td>\n",
       "      <td>1.0</td>\n",
       "      <td>1.0</td>\n",
       "    </tr>\n",
       "    <tr>\n",
       "      <th>5</th>\n",
       "      <td>@imstilllaura quanto custou esse violão da sup...</td>\n",
       "      <td>1.0</td>\n",
       "      <td>1.0</td>\n",
       "    </tr>\n",
       "    <tr>\n",
       "      <th>6</th>\n",
       "      <td>as luzes da zona sul, restaurantes no leblon\\n...</td>\n",
       "      <td>1.0</td>\n",
       "      <td>1.0</td>\n",
       "    </tr>\n",
       "    <tr>\n",
       "      <th>8</th>\n",
       "      <td>@foxscattergood ela é rica beu abor, a casa de...</td>\n",
       "      <td>1.0</td>\n",
       "      <td>0.0</td>\n",
       "    </tr>\n",
       "  </tbody>\n",
       "</table>\n",
       "</div>"
      ],
      "text/plain": [
       "                                               Teste  Relação Marca  \\\n",
       "0              ela é supreme eu smp preferi all star            1.0   \n",
       "3  sou fã desse cara\\nmeu avô no \"quanto custa o ...            1.0   \n",
       "5  @imstilllaura quanto custou esse violão da sup...            1.0   \n",
       "6  as luzes da zona sul, restaurantes no leblon\\n...            1.0   \n",
       "8  @foxscattergood ela é rica beu abor, a casa de...            1.0   \n",
       "\n",
       "   Positividade  \n",
       "0           1.0  \n",
       "3           1.0  \n",
       "5           1.0  \n",
       "6           1.0  \n",
       "8           0.0  "
      ]
     },
     "execution_count": 378,
     "metadata": {},
     "output_type": "execute_result"
    }
   ],
   "source": [
    "teste = pd.read_excel('tweets_supreme_teste.xlsx').dropna()\n",
    "teste.head()"
   ]
  },
  {
   "cell_type": "code",
   "execution_count": 386,
   "metadata": {},
   "outputs": [
    {
     "name": "stdout",
     "output_type": "stream",
     "text": [
      "{0: ['@foxscattergood ela é rica beu abor, a casa dela é feita de tijolo da supreme', '@zzzwalle @julie_carvalhoo só eu ne? mano, tu é uma camisa da supreme por 45 reais', 'rt @badgxrlmari: oq adianta supreme e bape se tu nao eh will smith???? fe', 'eu nunca vi tanta gente usando supreme como aq no pks o shopping todo é rico e hype e eu nem sabia', '@modruga tava escrito supreme na garrafa', 'rt @renata1255_: essa semana só foi bolsonaro, gincana do adventista e supreme https://t.co/2bprvh6ztg', '@taescientist sei la, pra mim é a dança do gordinho supreme', 'sou o maior youtube do mundo bro vou comprar uma camisa da supreme com meus dolls gang gang https://t.co/xjgq38fchr', '@saradonato016 pra falador é poucas né? online\\xa0cês reina e na rua cês treme. 155 no\\xa0boy\\xa0de supreme dentro do bate cabeça, é ubc nessa porra, talvez você não conheça', 'me arrio nessa gente com o moletom  da supreme', 'hoje apareceu um puto com tee da supreme na caixa e eu perguntei se dizia supreme spain na etiqueta e ele confirmou \\ndisse lhe que era fake supreme ficou triste como a noite', '“usando supreme\\nlupa do cobain”', 'rt @badgxrlmari: oq adianta supreme e bape se tu nao eh will smith???? fe', 'essas lojas que andam a vender supreme spain como supreme original deviam ter vergonha que falta de noção', 'nike sb e supreme fizeram coleção de tênis futsal !? ahahahahhahahjahajah', 'a supreme passou de todos os limites agora https://t.co/azqmf74wmp', 'rt @renata1255_: essa semana só foi bolsonaro, gincana do adventista e supreme https://t.co/2bprvh6ztg', 'rt @portugalkg7: lucas paz ta com a pochete da minha avó, se ele colar alguma etiqueta da supreme na porra da correia eu vou ficar muito pu…', 'eu queria entender oq q passa na cabeça dos designers da supreme', '@jmoraesx nem réplica é kkkk é um pano c supreme estampado', '@diouwlz so se tu botar a logo da supreme na frente p por esse preço', 'fui em um rodeio hoje, cidade do interior, e vi diversas pessoas com camisas da gucci e supreme, chutando muito baixo, diria que metade dessas camisas eram falsas. é, pessoal realmente não entendeu o conceito de usar essas marcas...', 'rt @gonzalesjordao: do que adianta usar high, supreme e morar lá onde judas perdeu as botas? kkkkkkkk mas vai indo', 'quando vai ter produtos renner supreme?', 'gucci e supreme não é nada, eu quero os menor acreditando que pode chegar, mesmo com a mãe ligando desesperada pq a bala n para de cantar', 'meu pai me trouxe uma camiseta da supreme eu pedi desculpas umas 5x mas falei que nao vou usar akjsdahsuhe de jeito ninhum', 'não aguento mais ver blusa escrito supreme', '@pablo_felpp pia, 5k tá um caiac da supreme, de verdade, imagino de 15 a 20 por aí', '@brunoamorim_cnc @japonega16 e essa capinha da supreme quanto custou,seu outfit', 'é tão feio as pessoas usar supreme falso', 'aparentemente a camisa ranço da supreme tem proporções maiores q eu pensava e inclusive já está em níveis alarmantes de uso', 'gostei de um vídeo @youtube https://t.co/jagqqhjovs avô no \"quanto custa o outfit\" + sorteio supreme', '@luizbega18 @luandote @acacioneto10 @evandro7256 o que será supreme perto dos kit do exército', 'lucas paz ta com a pochete da minha avó, se ele colar alguma etiqueta da supreme na porra da correia eu vou ficar muito puto com ele', 'tu anda em muriaé num sábado à noite e só vê a galera com a blusa:\\n\\n1kilo\\nla casa de papel \\nranço \\nanti embuste\\nnunca nem vi\\ne ai bora fecha?\\nsupreme', 'pior minha prima de 14 anos que tira foto parecendo uma pomba se empinando com camiseta da supreme, falando que é corinthiana mas é santista', 'rt @renata1255_: essa semana só foi bolsonaro, gincana do adventista e supreme https://t.co/2bprvh6ztg', 'rt @amigogaybz: já fizeram uma camisa fake da supreme escrito \"supera\"?\\n\\né bom pra dar pra amiga, pros amigo, pra irmã, pro irmão, sempre s…', 'qq é a pistola de dinheiro da supreme perto da pistola de dinheiro dourada do silvio santos?'], 1: ['ela é supreme eu smp preferi all star', 'sou fã desse cara\\nmeu avô no \"quanto custa o outfit\" + sorteio supreme https://t.co/i8wa9b9rpf via @youtube', '@imstilllaura quanto custou esse violão da supreme?\\naliás,ótimo desenho ^^', 'as luzes da zona sul, restaurantes no leblon\\njordans, supreme, lebrons\\nmão no volante cigarro entre o dedo', 'ele não me convence com essas conversas, os cara é tipo supreme eu sou tipo converse.', '@dougraz se for da supreme? quanto vale?', 'rt @usdefsoul: supreme por favor patrocina o menino youngjae eh o sonho dele', '@saidaquimeo vou mandar junto com uns mimos da supreme', 'bom dia ai seus camisa da supreme', 'rt @seuestilom: t-shirt supreme ☠️\\n50$ + frete\\nenviamos para todo o brasil ✈️\\nmais informações na dm \\n\\n6 camisas por 180$😱😱\\n\\nobs: vale a pe…', 'alguém sabe onde é que se compra supreme em lisboa? o meu pai anda a ter sonhos molhados com uma tshirt deles já faz 2 anos', 'pelo menos eh da da supreme', 'rt @vishmidia: coleman lança oficialmente para venda a minimoto em colab com a supreme, confira https://t.co/ubszcked7g https://t.co/ci5x0c…', 'rt @vishmidia: coleman lança oficialmente para venda a minimoto em colab com a supreme, confira https://t.co/ubszcked7g https://t.co/ci5x0c…', '@dgvies kkkkk eu uso supreme bro sou feio mais tou no hype', 'gostei de um vídeo @youtube https://t.co/wosx6kf0zl🔥moletom thrasher - unboxing #4! - resultado sorteio supreme!🔥', 'eu poderia tá criando pra supreme, off-white, kith, bape ou sei lá... mas tô cursando engenharia no interior do rio grande do sul', 'essa supreme naaamm', 'journals físico a pronta entrega, dvd com 69 vídeos do justin também e mais peças, a carteira da supreme também está disponível lá pra quem quiser. também temos produtos de roupas e calçados. pra quem não tiver ig e não pude chamar na direct chama na dm da @fkcsmarie', '@yuuhmeireles o tijolo da supreme ué kkkkkkk', 'rt @vishmidia: coleman lança oficialmente para venda a minimoto em colab com a supreme, confira https://t.co/ubszcked7g https://t.co/ci5x0c…', 'rt @opequenopassaro: bom dia ai seus camisa da supreme', 'rt @vishmidia: coleman lança oficialmente para venda a minimoto em colab com a supreme, confira https://t.co/ubszcked7g https://t.co/ci5x0c…', 'rt @michaugusto: supreme logo box, supreme vs louis vuitton, palace, bape e thrasher, quem se interessar chamar na dm, envio pra todo br e…', 'rt @usdefsoul: supreme por favor patrocina o menino youngjae eh o sonho dele', 'pessoal pra quem n sabe eu e a @fkcsmarie estamos com essa lojinha online pra ajudar nos gastos, pois ela está morando cmg e no começo é difícil pois só eu estou trabalhando. então confere lá no https://t.co/wa7q5gq3as que tem produtos do justin, carteira da supreme entre outros https://t.co/hfcjednprc', 'rt @vishmidia: coleman lança oficialmente para venda a minimoto em colab com a supreme, confira https://t.co/ubszcked7g https://t.co/ci5x0c…', 'rt @vishmidia: coleman lança oficialmente para venda a minimoto em colab com a supreme, confira https://t.co/ubszcked7g https://t.co/ci5x0c…', 'vou fica um nojo com a blusa da supreme', 'rt @vishmidia: coleman lança oficialmente para venda a minimoto em colab com a supreme, confira https://t.co/ubszcked7g https://t.co/ci5x0c…', 'rt @biebizzle: pessoal pra quem n sabe eu e a @fkcsmarie estamos com essa lojinha online pra ajudar nos gastos, pois ela está morando cmg e…', 'ter sentimentos é foda 💔\\nqueria ser um tijolo \\nmais... queria ser um tijolo da supreme', 'rt @vishmidia: coleman lança oficialmente para venda a minimoto em colab com a supreme, confira https://t.co/ubszcked7g https://t.co/ci5x0c…', 'eu sei que a supreme ta na moda, mas to oferecendo. alguém que casaco migo? https://t.co/b5fsko523x', 'minha casa vai ser construída com tijolos da supreme', 'aff blusa da supreme e tao bunita', '@jaoguit usa sim vc tem inveja da minha blusa da supreme', 'rt @vishmidia: coleman lança oficialmente para venda a minimoto em colab com a supreme, confira https://t.co/ubszcked7g https://t.co/ci5x0c…', 'pra esconder as marcas da cicatrizes\\nnesse boné da gucci paguei mil reais\\ncueca da supreme duzentos reais\\nmas sabe uma coisa que não tem preço\\né parar de ser bancado pelo pai', 'n sei vcs, mas eu n curto as paradas da supreme, deve ser pq sou pobre kkk https://t.co/6xouzaemcv', 'perdi um boné da supreme agora n consigo dormir tentando lembrar onde, sdds', 'rt @vishmidia: coleman lança oficialmente para venda a minimoto em colab com a supreme, confira https://t.co/ubszcked7g https://t.co/ci5x0c…', 'rt @usdefsoul: supreme por favor patrocina o menino youngjae eh o sonho dele', 'rt @vishmidia: coleman lança oficialmente para venda a minimoto em colab com a supreme, confira https://t.co/ubszcked7g https://t.co/ci5x0c…', 'supreme: floral logo tee - teal\\nhttps://t.co/4z7gacxfw1\\nmedium, large\\n09/10/18 07:24:31 est']}\n",
      "39 39\n"
     ]
    }
   ],
   "source": [
    "dici_teste=data_dici(teste,'Teste')\n",
    "print(dici_teste)\n",
    "print(len(dici_teste[0]),len(dici_teste[1]))"
   ]
  },
  {
   "cell_type": "code",
   "execution_count": 392,
   "metadata": {},
   "outputs": [
    {
     "name": "stdout",
     "output_type": "stream",
     "text": [
      "{'n_positivos_verdadeiros': 35.71, 'n_positivos_falsos': 11.9, 'n_negativos_verdadeiros': 34.52, 'n_negativos_falsos': 17.86}\n"
     ]
    }
   ],
   "source": [
    "print(analise_completa(dici_teste)[0])"
   ]
  },
  {
   "cell_type": "markdown",
   "metadata": {},
   "source": [
    "Não podemos usar o classificador para fazer uma nova base de treinamento, pois uma vez programado, o classificador ficará preso aquilo que já foi classificado, criando  um ciclo vicioso, no qual o classificador classifica informações novas sem conter essas informações, ou seja, será totalmente tendencioso."
   ]
  },
  {
   "cell_type": "code",
   "execution_count": null,
   "metadata": {},
   "outputs": [],
   "source": []
  }
 ],
 "metadata": {
  "kernelspec": {
   "display_name": "Python 3",
   "language": "python",
   "name": "python3"
  },
  "language_info": {
   "codemirror_mode": {
    "name": "ipython",
    "version": 3
   },
   "file_extension": ".py",
   "mimetype": "text/x-python",
   "name": "python",
   "nbconvert_exporter": "python",
   "pygments_lexer": "ipython3",
   "version": "3.6.4"
  }
 },
 "nbformat": 4,
 "nbformat_minor": 2
}
